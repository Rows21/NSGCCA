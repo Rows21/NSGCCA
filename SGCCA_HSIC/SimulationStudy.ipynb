{
 "cells": [
  {
   "cell_type": "code",
   "execution_count": 1,
   "id": "2c221b2b",
   "metadata": {},
   "outputs": [],
   "source": [
    "from main import Solver\n",
    "import torch\n",
    "from synth_data import create_synthData_new, create_synthData_multi\n",
    "from validation_method import FS_MCC\n",
    "import numpy as np"
   ]
  },
  {
   "cell_type": "code",
   "execution_count": 2,
   "id": "7b43f246",
   "metadata": {},
   "outputs": [
    {
     "name": "stdout",
     "output_type": "stream",
     "text": [
      "Using 0 GPUs\n"
     ]
    }
   ],
   "source": [
    "# Hyper Params Section\n",
    "device = 'cuda' if torch.cuda.is_available() else 'cpu'\n",
    "print(\"Using\", torch.cuda.device_count(), \"GPUs\")\n",
    "\n",
    "Solver = Solver(device)\n",
    "## Evaluation params\n",
    "ACC_list = []\n",
    "FS_list = []\n",
    "MCC_list = []\n"
   ]
  },
  {
   "cell_type": "code",
   "execution_count": 5,
   "id": "b4f2e030",
   "metadata": {},
   "outputs": [
    {
     "name": "stdout",
     "output_type": "stream",
     "text": [
      "input views shape :\n",
      "view_0 :  torch.Size([400, 20])\n",
      "view_1 :  torch.Size([400, 20])\n",
      "view_2 :  torch.Size([400, 20])\n",
      "Start Hyperparams Tuning\n",
      "Sparsity selection number= 1 hyperparams= 1.0 obj= tensor(0.1789)\n",
      "Sparsity selection number= 2 hyperparams= 10.460355750136051 obj= tensor(0.2147)\n",
      "Sparsity selection number= 3 hyperparams= 21.710678118654748 obj= tensor(0.1781)\n",
      "Sparsity selection number= 4 hyperparams= 35.08964152537145 obj= tensor(0.2177)\n",
      "Sparsity selection number= 5 hyperparams= 51.0 obj= tensor(0.2180)\n",
      "Finish Tuning!\n",
      "51.0\n",
      "SNGCCA Started!\n"
     ]
    },
    {
     "ename": "IndexError",
     "evalue": "invalid index to scalar variable.",
     "output_type": "error",
     "traceback": [
      "\u001b[1;31m---------------------------------------------------------------------------\u001b[0m",
      "\u001b[1;31mIndexError\u001b[0m                                Traceback (most recent call last)",
      "Cell \u001b[1;32mIn[5], line 23\u001b[0m\n\u001b[0;32m     20\u001b[0m     \u001b[38;5;28mprint\u001b[39m(\u001b[38;5;124m\"\u001b[39m\u001b[38;5;124mREP=\u001b[39m\u001b[38;5;124m\"\u001b[39m, rep \u001b[38;5;241m+\u001b[39m \u001b[38;5;241m1\u001b[39m)\n\u001b[0;32m     22\u001b[0m \u001b[38;5;66;03m## fit results\u001b[39;00m\n\u001b[1;32m---> 23\u001b[0m u \u001b[38;5;241m=\u001b[39m \u001b[43mSolver\u001b[49m\u001b[38;5;241;43m.\u001b[39;49m\u001b[43m_get_outputs\u001b[49m\u001b[43m(\u001b[49m\u001b[43mviews\u001b[49m\u001b[43m,\u001b[49m\u001b[43m \u001b[49m\u001b[38;5;241;43m1e-7\u001b[39;49m\u001b[43m,\u001b[49m\u001b[43m \u001b[49m\u001b[38;5;241;43m200\u001b[39;49m\u001b[43m,\u001b[49m\u001b[43m \u001b[49m\u001b[43mb0\u001b[49m\u001b[43m)\u001b[49m\n\u001b[0;32m     25\u001b[0m Label \u001b[38;5;241m=\u001b[39m torch\u001b[38;5;241m.\u001b[39mcat([torch\u001b[38;5;241m.\u001b[39mones(\u001b[38;5;241m2\u001b[39m, dtype\u001b[38;5;241m=\u001b[39mtorch\u001b[38;5;241m.\u001b[39mbool), torch\u001b[38;5;241m.\u001b[39mzeros(\u001b[38;5;241m18\u001b[39m, dtype\u001b[38;5;241m=\u001b[39mtorch\u001b[38;5;241m.\u001b[39mbool)])\n\u001b[0;32m     26\u001b[0m acc,f1,mcc \u001b[38;5;241m=\u001b[39m FS_MCC(u, Label)\n",
      "File \u001b[1;32m~\\Documents\\GitHub\\SGCCA_HSIC\\SGCCA_HSIC\\main.py:113\u001b[0m, in \u001b[0;36mSolver._get_outputs\u001b[1;34m(self, views, eps, maxit, b, logging)\u001b[0m\n\u001b[0;32m    111\u001b[0m \u001b[38;5;28;01mdef\u001b[39;00m \u001b[38;5;21m_get_outputs\u001b[39m(\u001b[38;5;28mself\u001b[39m,views,eps,maxit,b,logging\u001b[38;5;241m=\u001b[39m\u001b[38;5;241m0\u001b[39m):\n\u001b[0;32m    112\u001b[0m     \u001b[38;5;66;03m#print(\"SNGCCA Started!\")\u001b[39;00m\n\u001b[1;32m--> 113\u001b[0m     u \u001b[38;5;241m=\u001b[39m \u001b[38;5;28;43mself\u001b[39;49m\u001b[38;5;241;43m.\u001b[39;49m\u001b[43mSNGCCA\u001b[49m\u001b[38;5;241;43m.\u001b[39;49m\u001b[43mfit\u001b[49m\u001b[43m(\u001b[49m\u001b[43mviews\u001b[49m\u001b[43m,\u001b[49m\u001b[43m \u001b[49m\u001b[43meps\u001b[49m\u001b[43m,\u001b[49m\u001b[43m \u001b[49m\u001b[43mmaxit\u001b[49m\u001b[43m,\u001b[49m\u001b[43mb\u001b[49m\u001b[43m,\u001b[49m\u001b[43mloss\u001b[49m\u001b[38;5;241;43m=\u001b[39;49m\u001b[38;5;124;43m\"\u001b[39;49m\u001b[38;5;124;43mSGD\u001b[39;49m\u001b[38;5;124;43m\"\u001b[39;49m\u001b[43m,\u001b[49m\u001b[43mpatience\u001b[49m\u001b[38;5;241;43m=\u001b[39;49m\u001b[38;5;241;43m10\u001b[39;49m\u001b[43m,\u001b[49m\u001b[43mlogging\u001b[49m\u001b[38;5;241;43m=\u001b[39;49m\u001b[43mlogging\u001b[49m\u001b[43m)\u001b[49m\n\u001b[0;32m    114\u001b[0m     \u001b[38;5;28;01mreturn\u001b[39;00m u\n",
      "File \u001b[1;32m~\\Documents\\GitHub\\SGCCA_HSIC\\SGCCA_HSIC\\sngcca.py:107\u001b[0m, in \u001b[0;36mSNGCCA.fit\u001b[1;34m(self, views, eps, maxit, b, loss, early_stopping, patience, logging)\u001b[0m\n\u001b[0;32m    105\u001b[0m \u001b[38;5;28mself\u001b[39m\u001b[38;5;241m.\u001b[39mcK_list \u001b[38;5;241m=\u001b[39m []\n\u001b[0;32m    106\u001b[0m \u001b[38;5;28mself\u001b[39m\u001b[38;5;241m.\u001b[39mu_list \u001b[38;5;241m=\u001b[39m []\n\u001b[1;32m--> 107\u001b[0m \u001b[38;5;28;43mself\u001b[39;49m\u001b[38;5;241;43m.\u001b[39;49m\u001b[43mset_init\u001b[49m\u001b[43m(\u001b[49m\u001b[43mviews\u001b[49m\u001b[43m,\u001b[49m\u001b[43mb\u001b[49m\u001b[43m)\u001b[49m\n\u001b[0;32m    109\u001b[0m diff \u001b[38;5;241m=\u001b[39m \u001b[38;5;241m99999\u001b[39m\n\u001b[0;32m    110\u001b[0m ite \u001b[38;5;241m=\u001b[39m \u001b[38;5;241m0\u001b[39m\n",
      "File \u001b[1;32m~\\Documents\\GitHub\\SGCCA_HSIC\\SGCCA_HSIC\\sngcca.py:83\u001b[0m, in \u001b[0;36mSNGCCA.set_init\u001b[1;34m(self, views, b)\u001b[0m\n\u001b[0;32m     81\u001b[0m \u001b[38;5;28;01mfor\u001b[39;00m i, view \u001b[38;5;129;01min\u001b[39;00m \u001b[38;5;28menumerate\u001b[39m(views):\n\u001b[0;32m     82\u001b[0m     v \u001b[38;5;241m=\u001b[39m torch\u001b[38;5;241m.\u001b[39mrand(view\u001b[38;5;241m.\u001b[39mshape[\u001b[38;5;241m1\u001b[39m])\u001b[38;5;241m.\u001b[39mto(\u001b[38;5;28mself\u001b[39m\u001b[38;5;241m.\u001b[39mdevice)\n\u001b[1;32m---> 83\u001b[0m     umr \u001b[38;5;241m=\u001b[39m torch\u001b[38;5;241m.\u001b[39mreshape(\u001b[38;5;28mself\u001b[39m\u001b[38;5;241m.\u001b[39mprojL1(v, \u001b[43mb\u001b[49m\u001b[43m[\u001b[49m\u001b[43mi\u001b[49m\u001b[43m]\u001b[49m), (view\u001b[38;5;241m.\u001b[39mshape[\u001b[38;5;241m1\u001b[39m], \u001b[38;5;241m1\u001b[39m))\n\u001b[0;32m     84\u001b[0m     u_norm \u001b[38;5;241m=\u001b[39m umr \u001b[38;5;241m/\u001b[39m torch\u001b[38;5;241m.\u001b[39mnorm(umr, p\u001b[38;5;241m=\u001b[39m\u001b[38;5;241m2\u001b[39m)\u001b[38;5;241m.\u001b[39mto(\u001b[38;5;28mself\u001b[39m\u001b[38;5;241m.\u001b[39mdevice)\n\u001b[0;32m     86\u001b[0m     \u001b[38;5;66;03m## Calculate Kernel\u001b[39;00m\n",
      "\u001b[1;31mIndexError\u001b[0m: invalid index to scalar variable."
     ]
    }
   ],
   "source": [
    "## Scenario 1\n",
    "FS = []\n",
    "MCC = []\n",
    "ACC = []\n",
    "N = 400\n",
    "views = create_synthData_new(N, mode=1, F=20)    \n",
    "print(f'input views shape :')\n",
    "for i, view in enumerate(views):\n",
    "    print(f'view_{i} :  {view.shape}')\n",
    "    view = view.to(\"cpu\")\n",
    "    \n",
    "## train hyper\n",
    "\n",
    "b0, obj = Solver.tune_hyper(x_list=views, set_params=10,max_params=50,iter=50)\n",
    "print(b0)\n",
    "\n",
    "print(\"SNGCCA Started!\")\n",
    "for rep in range(500):\n",
    "    if (rep + 1) % 10 == 0:\n",
    "        print(\"REP=\", rep + 1)\n",
    "    \n",
    "    ## fit results\n",
    "    u = Solver._get_outputs(views, 1e-7, 200, b0)\n",
    "\n",
    "    Label = torch.cat([torch.ones(2, dtype=torch.bool), torch.zeros(18, dtype=torch.bool)])\n",
    "    acc,f1,mcc = FS_MCC(u, Label)\n",
    "    ACC.append(acc)\n",
    "    FS.append(f1)\n",
    "    MCC.append(mcc)"
   ]
  },
  {
   "cell_type": "code",
   "execution_count": null,
   "id": "14e1b28c",
   "metadata": {},
   "outputs": [],
   "source": [
    "macc = np.mean(ACC)\n",
    "sdacc = np.std(ACC)\n",
    "print(macc, sdacc)\n",
    "ACC_list.append([macc,sdacc])\n",
    "\n",
    "mf = np.mean(FS)\n",
    "sdf = np.std(FS)\n",
    "print(mf, sdf)\n",
    "FS_list.append([mf,sdf])\n",
    "\n",
    "mmcc = np.mean(MCC)\n",
    "sdmcc = np.std(MCC)\n",
    "print(mmcc, sdmcc)\n",
    "MCC_list.append([mmcc, sdmcc])"
   ]
  },
  {
   "cell_type": "code",
   "execution_count": null,
   "id": "7e6548f8",
   "metadata": {},
   "outputs": [],
   "source": [
    "## Scenario 2\n",
    "from validation_method import FS_MCC\n",
    "ACC_2 = []\n",
    "FS_2 = []\n",
    "MCC_2 = []\n",
    "N = 400\n",
    "views = create_synthData_new(N, mode=2, F=20)\n",
    "\n",
    "print(f'input views shape :')\n",
    "for i, view in enumerate(views):\n",
    "    print(f'view_{i} :  {view.shape}')\n",
    "    view = view.to(\"cpu\")\n",
    "\n",
    "## train hyper\n",
    "b0, obj = Solver.tune_hyper(x_list=views, set_params=10,max_params=50,iter=50)\n",
    "print(b0)\n",
    "\n",
    "for rep in range(100):\n",
    "    if (rep + 1) % 30 == 0:\n",
    "        print(\"REP=\", rep + 1)\n",
    "    \n",
    "    ## fit results\n",
    "    u = Solver._get_outputs(views, 1e-7, 100, b0)\n",
    "\n",
    "    Label = torch.cat([torch.ones(2, dtype=torch.bool), torch.zeros(18, dtype=torch.bool)])\n",
    "    acc,f1,mcc = FS_MCC(u, Label)\n",
    "    ACC_2.append(acc)\n",
    "    FS_2.append(f1)\n",
    "    MCC_2.append(mcc)"
   ]
  },
  {
   "cell_type": "code",
   "execution_count": null,
   "id": "3d27aff9",
   "metadata": {},
   "outputs": [],
   "source": [
    "macc = np.mean(ACC_2)\n",
    "sdacc = np.std(ACC_2)\n",
    "print(macc, sdacc)\n",
    "ACC_list.append([macc,sdacc])\n",
    "\n",
    "mf = np.mean(FS_2)\n",
    "sdf = np.std(FS_2)\n",
    "print(mf, sdf)\n",
    "FS_list.append([mf,sdf])\n",
    "\n",
    "mmcc = np.mean(MCC_2)\n",
    "sdmcc = np.std(MCC_2)\n",
    "print(mmcc, sdmcc)\n",
    "MCC_list.append([mmcc, sdmcc])"
   ]
  },
  {
   "cell_type": "code",
   "execution_count": null,
   "id": "b71e9b1d",
   "metadata": {},
   "outputs": [],
   "source": [
    "## Scenario 3\n",
    "FS_3 = []\n",
    "MCC_3 = []\n",
    "ACC_3 = []\n",
    "N = 400\n",
    "views = create_synthData_new(N, mode=3, F=20)\n",
    "\n",
    "print(f'input views shape :')\n",
    "for i, view in enumerate(views):\n",
    "    print(f'view_{i} :  {view.shape}')\n",
    "    view = view.to(\"cpu\")\n",
    "\n",
    "## train hyper\n",
    "b0, obj = Solver.tune_hyper(x_list=views, set_params=10,max_params=50,iter=50)\n",
    "print(b0)\n",
    "for rep in range(100):\n",
    "    if (rep + 1) % 100 == 0:\n",
    "        print(\"REP=\", rep + 1)\n",
    "\n",
    "    ## fit results\n",
    "    u = Solver._get_outputs(views, 1e-7, 100, b0)\n",
    "\n",
    "    Label = torch.cat([torch.ones(2, dtype=torch.bool), torch.zeros(18, dtype=torch.bool)])\n",
    "    acc,f1,mcc = FS_MCC(u, Label)\n",
    "    ACC_3.append(acc)\n",
    "    FS_3.append(f1)\n",
    "    MCC_3.append(mcc)\n"
   ]
  },
  {
   "cell_type": "code",
   "execution_count": null,
   "id": "83ad4184",
   "metadata": {},
   "outputs": [],
   "source": [
    "macc = np.mean(ACC_3)\n",
    "sdacc = np.std(ACC_3)\n",
    "print(macc, sdacc)\n",
    "ACC_list.append([macc,sdacc])\n",
    "\n",
    "mf = np.mean(FS_3)\n",
    "sdf = np.std(FS_3)\n",
    "print(mf, sdf)\n",
    "FS_list.append([mf,sdf])\n",
    "\n",
    "mmcc = np.mean(MCC_3)\n",
    "sdmcc = np.std(MCC_3)\n",
    "print(mmcc, sdmcc)\n",
    "MCC_list.append([mmcc, sdmcc])"
   ]
  },
  {
   "cell_type": "code",
   "execution_count": 12,
   "id": "2bb64ba5",
   "metadata": {
    "scrolled": true
   },
   "outputs": [
    {
     "name": "stdout",
     "output_type": "stream",
     "text": [
      "[[0.9995, 0.002843120351538671], [0.8703333333333333, 0.1871063274659031], [0.99, 0.02666666666666667], [0.9093333333333333, 0.17712707302950612]]\n",
      "[[0.9976923076923078, 0.013122093930178456], [0.7190703713776849, 0.4039591167640373], [0.9561904761904763, 0.11602286410604992], [0.8320428473913801, 0.3271718401798907]]\n",
      "[[0.9975162289775118, 0.014123319885196705], [0.6658653887536796, 0.48360642882196214], [0.9516859485768091, 0.12875312146354564], [0.8041721769326842, 0.3836427029665225]]\n"
     ]
    }
   ],
   "source": [
    "print(ACC_list)\n",
    "print(FS_list)\n",
    "print(MCC_list)"
   ]
  },
  {
   "cell_type": "code",
   "execution_count": null,
   "id": "23344995",
   "metadata": {},
   "outputs": [],
   "source": []
  }
 ],
 "metadata": {
  "kernelspec": {
   "display_name": "Python 3 (ipykernel)",
   "language": "python",
   "name": "python3"
  },
  "language_info": {
   "codemirror_mode": {
    "name": "ipython",
    "version": 3
   },
   "file_extension": ".py",
   "mimetype": "text/x-python",
   "name": "python",
   "nbconvert_exporter": "python",
   "pygments_lexer": "ipython3",
   "version": "3.9.13"
  }
 },
 "nbformat": 4,
 "nbformat_minor": 5
}
