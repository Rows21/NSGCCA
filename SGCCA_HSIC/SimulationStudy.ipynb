{
 "cells": [
  {
   "cell_type": "code",
   "execution_count": 1,
   "id": "2c221b2b",
   "metadata": {},
   "outputs": [],
   "source": [
    "from main import Solver\n",
    "import torch\n",
    "from synth_data import create_synthData_new, create_synthData_multi\n",
    "from validation_method import FS_MCC\n",
    "import numpy as np"
   ]
  },
  {
   "cell_type": "code",
   "execution_count": 2,
   "id": "7b43f246",
   "metadata": {},
   "outputs": [
    {
     "name": "stdout",
     "output_type": "stream",
     "text": [
      "Using 0 GPUs\n"
     ]
    }
   ],
   "source": [
    "# Hyper Params Section\n",
    "device = 'cuda' if torch.cuda.is_available() else 'cpu'\n",
    "print(\"Using\", torch.cuda.device_count(), \"GPUs\")\n",
    "\n",
    "Solver = Solver(device)\n",
    "## Evaluation params\n",
    "ACC_list = []\n",
    "FS_list = []\n",
    "MCC_list = []\n"
   ]
  },
  {
   "cell_type": "code",
   "execution_count": 7,
   "id": "b4f2e030",
   "metadata": {},
   "outputs": [
    {
     "name": "stdout",
     "output_type": "stream",
     "text": [
      "input views shape :\n",
      "view_0 :  torch.Size([400, 20])\n",
      "view_1 :  torch.Size([400, 20])\n",
      "view_2 :  torch.Size([400, 20])\n",
      "SNGCCA Started!\n"
     ]
    }
   ],
   "source": [
    "## Scenario 1\n",
    "FS = []\n",
    "MCC = []\n",
    "ACC = []\n",
    "N = 400\n",
    "views = create_synthData_new(N, mode=1, F=20)    \n",
    "print(f'input views shape :')\n",
    "for i, view in enumerate(views):\n",
    "    print(f'view_{i} :  {view.shape}')\n",
    "    view = view.to(\"cpu\")\n",
    "    \n",
    "## train hyper\n",
    "\n",
    "#b0, obj = Solver.tune_hyper(x_list=views, set_params=1,max_params=50,iters=100)\n",
    "#print(b0)\n",
    "b0=1\n",
    "print(\"SNGCCA Started!\")\n",
    "for rep in range(1):\n",
    "    if (rep + 1) % 100 == 0:\n",
    "        print(\"REP=\", rep + 1)\n",
    "    \n",
    "    ## fit results\n",
    "    u = Solver._get_outputs(views, 1e-7, 200, (b0,b0,b0))\n",
    "\n",
    "    Label = torch.cat([torch.ones(2, dtype=torch.bool), torch.zeros(18, dtype=torch.bool)])\n",
    "    acc,f1,mcc = FS_MCC(u, Label)\n",
    "    ACC.append(acc)\n",
    "    FS.append(f1)\n",
    "    MCC.append(mcc)"
   ]
  },
  {
   "cell_type": "code",
   "execution_count": 6,
   "id": "e7d36328",
   "metadata": {},
   "outputs": [
    {
     "data": {
      "text/plain": [
       "<matplotlib.collections.PathCollection at 0x1ba7d455610>"
      ]
     },
     "execution_count": 6,
     "metadata": {},
     "output_type": "execute_result"
    },
    {
     "data": {
      "image/png": "[encoded data removed]",
      "text/plain": [
       "<Figure size 640x480 with 3 Axes>"
      ]
     },
     "metadata": {},
     "output_type": "display_data"
    }
   ],
   "source": [
    "import matplotlib.pyplot as plt\n",
    "fig = plt.figure()\n",
    "ax1 = fig.add_subplot(3, 3, 1)\n",
    "ax2 = fig.add_subplot(3, 3, 2)\n",
    "ax3 = fig.add_subplot(3, 3, 3)\n",
    "\n",
    "x1 = views[0] @ u[0]\n",
    "xg1 = views[0][:,0] + views[0][:,1]\n",
    "y1 = views[1] @ u[1]\n",
    "yg1 = views[1][:,0] + views[1][:,1]\n",
    "z1 = views[2] @ u[2]\n",
    "zg1 = views[2][:,0] + views[2][:,1]\n",
    "\n",
    "ax1.scatter(x1,y1,s=0.8,c='#3a7bd5')\n",
    "ax1.plot(xg1,yg1,linewidth=0.5,c='#3a6073')\n",
    "ax2.scatter(x1,z1,s=0.8,c='#3a7bd5')\n",
    "ax2.plot(xg1,yg1,linewidth=0.5,c='#3a6073')\n",
    "ax3.scatter(y1,z1,s=0.8,c='#3a7bd5')\n",
    "#ax3.plot(yg1,zg1,linewidth=0.5,c='#3a6073')"
   ]
  },
  {
   "cell_type": "code",
   "execution_count": 8,
   "id": "14e1b28c",
   "metadata": {},
   "outputs": [
    {
     "name": "stdout",
     "output_type": "stream",
     "text": [
      "0.9975999999999999 0.00639583197611279\n",
      "0.9890549450549452 0.02889918516206012\n",
      "0.9882629549372325 0.030909214124223112\n"
     ]
    }
   ],
   "source": [
    "macc = np.mean(ACC)\n",
    "sdacc = np.std(ACC)\n",
    "print(macc, sdacc)\n",
    "ACC_list.append([macc,sdacc])\n",
    "\n",
    "mf = np.mean(FS)\n",
    "sdf = np.std(FS)\n",
    "print(mf, sdf)\n",
    "FS_list.append([mf,sdf])\n",
    "\n",
    "mmcc = np.mean(MCC)\n",
    "sdmcc = np.std(MCC)\n",
    "print(mmcc, sdmcc)\n",
    "MCC_list.append([mmcc, sdmcc])"
   ]
  },
  {
   "cell_type": "code",
   "execution_count": 7,
   "id": "7e6548f8",
   "metadata": {},
   "outputs": [
    {
     "name": "stdout",
     "output_type": "stream",
     "text": [
      "input views shape :\n",
      "view_0 :  torch.Size([400, 20])\n",
      "view_1 :  torch.Size([400, 20])\n",
      "view_2 :  torch.Size([400, 20])\n",
      "[tensor([[ 0.6972],\n",
      "        [ 0.7114],\n",
      "        [-0.0201],\n",
      "        [ 0.0029],\n",
      "        [-0.0011],\n",
      "        [ 0.0509],\n",
      "        [-0.0017],\n",
      "        [ 0.0086],\n",
      "        [-0.0117],\n",
      "        [-0.0101],\n",
      "        [-0.0282],\n",
      "        [ 0.0135],\n",
      "        [-0.0012],\n",
      "        [ 0.0174],\n",
      "        [-0.0210],\n",
      "        [ 0.0217],\n",
      "        [-0.0194],\n",
      "        [ 0.0087],\n",
      "        [ 0.0419],\n",
      "        [ 0.0103]]), tensor([[ 7.2292e-01],\n",
      "        [ 6.8948e-01],\n",
      "        [-3.5069e-03],\n",
      "        [-2.2646e-03],\n",
      "        [ 7.3474e-03],\n",
      "        [ 2.1982e-02],\n",
      "        [-6.9508e-03],\n",
      "        [-4.0742e-03],\n",
      "        [ 7.7267e-03],\n",
      "        [-5.6337e-03],\n",
      "        [-5.1001e-03],\n",
      "        [ 1.7660e-02],\n",
      "        [-5.2956e-06],\n",
      "        [-8.3810e-03],\n",
      "        [-5.3433e-04],\n",
      "        [-2.9984e-03],\n",
      "        [-2.7579e-03],\n",
      "        [ 1.7904e-02],\n",
      "        [-2.0869e-02],\n",
      "        [ 1.0752e-02]]), tensor([[ 0.0612],\n",
      "        [ 0.1132],\n",
      "        [ 0.2079],\n",
      "        [-0.0373],\n",
      "        [ 0.1441],\n",
      "        [ 0.3412],\n",
      "        [ 0.2499],\n",
      "        [-0.0687],\n",
      "        [ 0.2951],\n",
      "        [ 0.1070],\n",
      "        [-0.0218],\n",
      "        [ 0.0487],\n",
      "        [-0.3277],\n",
      "        [ 0.2092],\n",
      "        [-0.2113],\n",
      "        [-0.0728],\n",
      "        [ 0.2135],\n",
      "        [-0.0338],\n",
      "        [-0.4595],\n",
      "        [ 0.4174]])]\n"
     ]
    }
   ],
   "source": [
    "## Scenario 2\n",
    "from validation_method import FS_MCC\n",
    "ACC_2 = []\n",
    "FS_2 = []\n",
    "MCC_2 = []\n",
    "N = 400\n",
    "views = create_synthData_new(N, mode=2, F=20)\n",
    "\n",
    "print(f'input views shape :')\n",
    "for i, view in enumerate(views):\n",
    "    print(f'view_{i} :  {view.shape}')\n",
    "    view = view.to(\"cpu\")\n",
    "\n",
    "## train hyper\n",
    "#b0, obj = Solver.tune_hyper(x_list=views, set_params=10,max_params=50,iters=100)\n",
    "#print(b0)\n",
    "b0 = 14\n",
    "for rep in range(1):\n",
    "    if (rep + 1) % 100 == 0:\n",
    "        print(\"REP=\", rep + 1)\n",
    "    \n",
    "    ## fit results\n",
    "    u = Solver._get_outputs(views, 1e-7, 300, (b0,b0,b0))\n",
    "\n",
    "    Label = torch.cat([torch.ones(2, dtype=torch.bool), torch.zeros(18, dtype=torch.bool)])\n",
    "    acc,f1,mcc = FS_MCC(u, Label)\n",
    "    ACC_2.append(acc)\n",
    "    FS_2.append(f1)\n",
    "    MCC_2.append(mcc)\n",
    "print(u)"
   ]
  },
  {
   "cell_type": "code",
   "execution_count": 5,
   "id": "3f412f92",
   "metadata": {},
   "outputs": [
    {
     "ename": "NameError",
     "evalue": "name 'plt' is not defined",
     "output_type": "error",
     "traceback": [
      "\u001b[1;31m---------------------------------------------------------------------------\u001b[0m",
      "\u001b[1;31mNameError\u001b[0m                                 Traceback (most recent call last)",
      "Cell \u001b[1;32mIn[5], line 1\u001b[0m\n\u001b[1;32m----> 1\u001b[0m fig \u001b[38;5;241m=\u001b[39m \u001b[43mplt\u001b[49m\u001b[38;5;241m.\u001b[39mfigure()\n\u001b[0;32m      2\u001b[0m ax1 \u001b[38;5;241m=\u001b[39m fig\u001b[38;5;241m.\u001b[39madd_subplot(\u001b[38;5;241m3\u001b[39m, \u001b[38;5;241m3\u001b[39m, \u001b[38;5;241m1\u001b[39m)\n\u001b[0;32m      3\u001b[0m ax2 \u001b[38;5;241m=\u001b[39m fig\u001b[38;5;241m.\u001b[39madd_subplot(\u001b[38;5;241m3\u001b[39m, \u001b[38;5;241m3\u001b[39m, \u001b[38;5;241m2\u001b[39m)\n",
      "\u001b[1;31mNameError\u001b[0m: name 'plt' is not defined"
     ]
    }
   ],
   "source": [
    "fig = plt.figure()\n",
    "ax1 = fig.add_subplot(3, 3, 1)\n",
    "ax2 = fig.add_subplot(3, 3, 2)\n",
    "ax3 = fig.add_subplot(3, 3, 3)\n",
    "ax4 = fig.add_subplot(3, 3, 4)\n",
    "ax5 = fig.add_subplot(3, 3, 5)\n",
    "ax6 = fig.add_subplot(3, 3, 6)\n",
    "print(u)\n",
    "x2 = views[0] @ u[0]\n",
    "xg2 = views[0][:,0] + views[0][:,1]\n",
    "y2 = views[1] @ u[1]\n",
    "yg2 = views[1][:,0] + views[1][:,1]\n",
    "z2 = views[2] @ u[2]\n",
    "zg2 = views[2][:,0] + views[2][:,1]\n",
    "\n",
    "ax1.scatter(x1,y1,s=0.8,c='#3a7bd5')\n",
    "ax1.plot(xg1,yg1,linewidth=0.5,c='#3a6073')\n",
    "ax2.scatter(x1,z1,s=0.8,c='#3a7bd5')\n",
    "ax2.plot(xg1,yg1,linewidth=0.5,c='#3a6073')\n",
    "ax3.scatter(y1,z1,s=0.8,c='#3a7bd5')\n",
    "#ax3.plot(yg1,zg1,linewidth=0.5,c='#3a6073')\n",
    "ax4.scatter(x2,y2,s=0.8,c='#3a7bd5')\n",
    "ax4.plot(xg2,yg2,linewidth=0.5,c='#3a6073')\n",
    "ax5.scatter(x2,z2,s=0.8,c='#3a7bd5')\n",
    "ax5.plot(xg2,yg2,linewidth=0.5,c='#3a6073')\n",
    "ax6.scatter(y2,z2,s=0.8,c='#3a7bd5')\n",
    "#ax6.plot(yg1,zg1,linewidth=0.5,c='#3a6073')\n"
   ]
  },
  {
   "cell_type": "code",
   "execution_count": 10,
   "id": "3d27aff9",
   "metadata": {},
   "outputs": [
    {
     "name": "stdout",
     "output_type": "stream",
     "text": [
      "0.9434999999999999 0.14647515906194547\n",
      "0.8933763128080017 0.2738150324505891\n",
      "0.8753058894507663 0.323405773174309\n"
     ]
    }
   ],
   "source": [
    "macc = np.mean(ACC_2)\n",
    "sdacc = np.std(ACC_2)\n",
    "print(macc, sdacc)\n",
    "ACC_list.append([macc,sdacc])\n",
    "\n",
    "mf = np.mean(FS_2)\n",
    "sdf = np.std(FS_2)\n",
    "print(mf, sdf)\n",
    "FS_list.append([mf,sdf])\n",
    "\n",
    "mmcc = np.mean(MCC_2)\n",
    "sdmcc = np.std(MCC_2)\n",
    "print(mmcc, sdmcc)\n",
    "MCC_list.append([mmcc, sdmcc])"
   ]
  },
  {
   "cell_type": "code",
   "execution_count": 7,
   "id": "b71e9b1d",
   "metadata": {},
   "outputs": [
    {
     "name": "stdout",
     "output_type": "stream",
     "text": [
      "input views shape :\n",
      "view_0 :  torch.Size([400, 20])\n",
      "view_1 :  torch.Size([400, 20])\n",
      "view_2 :  torch.Size([400, 20])\n"
     ]
    }
   ],
   "source": [
    "## Scenario 3\n",
    "FS_3 = []\n",
    "MCC_3 = []\n",
    "ACC_3 = []\n",
    "N = 400\n",
    "views = create_synthData_new(N, mode=3, F=20)\n",
    "\n",
    "print(f'input views shape :')\n",
    "for i, view in enumerate(views):\n",
    "    print(f'view_{i} :  {view.shape}')\n",
    "    view = view.to(\"cpu\")\n",
    "\n",
    "## train hyper\n",
    "#b0, obj = Solver.tune_hyper(x_list=views, set_params=10,max_params=50,iters=100)\n",
    "#print(b0)\n",
    "b0=5.00\n",
    "for rep in range(1):\n",
    "    if (rep + 1) % 100 == 0:\n",
    "        print(\"REP=\", rep + 1)\n",
    "\n",
    "    ## fit results\n",
    "    u = Solver._get_outputs(views, 1e-7, 200, (b0,b0,b0))\n",
    "\n",
    "    Label = torch.cat([torch.ones(2, dtype=torch.bool), torch.zeros(18, dtype=torch.bool)])\n",
    "    acc,f1,mcc = FS_MCC(u, Label)\n",
    "    ACC_3.append(acc)\n",
    "    FS_3.append(f1)\n",
    "    MCC_3.append(mcc)\n"
   ]
  },
  {
   "cell_type": "code",
   "execution_count": 16,
   "id": "1defd713",
   "metadata": {},
   "outputs": [
    {
     "data": {
      "text/plain": [
       "<matplotlib.collections.PathCollection at 0x246c1388520>"
      ]
     },
     "execution_count": 16,
     "metadata": {},
     "output_type": "execute_result"
    },
    {
     "data": {
      "image/png": "[encoded data removed]",
      "text/plain": [
       "<Figure size 640x480 with 9 Axes>"
      ]
     },
     "metadata": {},
     "output_type": "display_data"
    }
   ],
   "source": [
    "fig = plt.figure()\n",
    "ax1 = fig.add_subplot(3, 3, 1)\n",
    "ax2 = fig.add_subplot(3, 3, 2)\n",
    "ax3 = fig.add_subplot(3, 3, 3)\n",
    "ax4 = fig.add_subplot(3, 3, 4)\n",
    "ax5 = fig.add_subplot(3, 3, 5)\n",
    "ax6 = fig.add_subplot(3, 3, 6)\n",
    "ax7 = fig.add_subplot(3, 3, 7)\n",
    "ax8 = fig.add_subplot(3, 3, 8)\n",
    "ax9 = fig.add_subplot(3, 3, 9)\n",
    "\n",
    "x3 = views[0] @ u[0]\n",
    "xg3 = views[0][:,0] + views[0][:,1]\n",
    "y3 = views[1] @ u[1]\n",
    "yg3 = views[1][:,0] + views[1][:,1]\n",
    "z3 = views[2] @ u[2]\n",
    "zg3 = views[2][:,0] + views[2][:,1]\n",
    "\n",
    "ax7.scatter(x3,y3,s=0.8,c='#3a7bd5')\n",
    "#ax7.plot(xg3,yg3,linewidth=0.5,c='#3a6073')\n",
    "ax8.scatter(x3,z3,s=0.8,c='#3a7bd5')\n",
    "#ax8.plot(xg3,yg3,linewidth=0.5,c='#3a6073')\n",
    "ax9.scatter(y3,z3,s=0.8,c='#3a7bd5')\n",
    "#ax9.plot(yg1,zg1,linewidth=0.5,c='#3a6073')"
   ]
  },
  {
   "cell_type": "code",
   "execution_count": 12,
   "id": "83ad4184",
   "metadata": {},
   "outputs": [
    {
     "name": "stdout",
     "output_type": "stream",
     "text": [
      "0.9926666666666665 0.00922556833539872\n",
      "0.9664835164835165 0.04168226170336305\n",
      "0.9640339979497794 0.044583148679418254\n"
     ]
    }
   ],
   "source": [
    "macc = np.mean(ACC_3)\n",
    "sdacc = np.std(ACC_3)\n",
    "print(macc, sdacc)\n",
    "ACC_list.append([macc,sdacc])\n",
    "\n",
    "mf = np.mean(FS_3)\n",
    "sdf = np.std(FS_3)\n",
    "print(mf, sdf)\n",
    "FS_list.append([mf,sdf])\n",
    "\n",
    "mmcc = np.mean(MCC_3)\n",
    "sdmcc = np.std(MCC_3)\n",
    "print(mmcc, sdmcc)\n",
    "MCC_list.append([mmcc, sdmcc])"
   ]
  },
  {
   "cell_type": "code",
   "execution_count": 13,
   "id": "2bb64ba5",
   "metadata": {
    "scrolled": true
   },
   "outputs": [
    {
     "name": "stdout",
     "output_type": "stream",
     "text": [
      "[[0.9975999999999999, 0.00639583197611279], [0.9434999999999999, 0.14647515906194547], [0.9926666666666665, 0.00922556833539872]]\n",
      "[[0.9890549450549452, 0.02889918516206012], [0.8933763128080017, 0.2738150324505891], [0.9664835164835165, 0.04168226170336305]]\n",
      "[[0.9882629549372325, 0.030909214124223112], [0.8753058894507663, 0.323405773174309], [0.9640339979497794, 0.044583148679418254]]\n"
     ]
    }
   ],
   "source": [
    "print(ACC_list)\n",
    "print(FS_list)\n",
    "print(MCC_list)"
   ]
  },
  {
   "cell_type": "code",
   "execution_count": null,
   "id": "23344995",
   "metadata": {},
   "outputs": [],
   "source": []
  }
 ],
 "metadata": {
  "kernelspec": {
   "display_name": "Python 3 (ipykernel)",
   "language": "python",
   "name": "python3"
  },
  "language_info": {
   "codemirror_mode": {
    "name": "ipython",
    "version": 3
   },
   "file_extension": ".py",
   "mimetype": "text/x-python",
   "name": "python",
   "nbconvert_exporter": "python",
   "pygments_lexer": "ipython3",
   "version": "3.9.13"
  }
 },
 "nbformat": 4,
 "nbformat_minor": 5
}
