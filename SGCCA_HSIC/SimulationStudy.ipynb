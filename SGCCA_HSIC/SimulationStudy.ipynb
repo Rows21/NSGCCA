{
 "cells": [
  {
   "cell_type": "code",
   "execution_count": 1,
   "id": "2c221b2b",
   "metadata": {},
   "outputs": [],
   "source": [
    "from main import Solver\n",
    "import torch\n",
    "from synth_data import create_synthData_new, create_synthData_multi\n",
    "from validation_method import FS_MCC\n",
    "import numpy as np"
   ]
  },
  {
   "cell_type": "code",
   "execution_count": 2,
   "id": "7b43f246",
   "metadata": {},
   "outputs": [
    {
     "name": "stdout",
     "output_type": "stream",
     "text": [
      "Using 0 GPUs\n"
     ]
    }
   ],
   "source": [
    "# Hyper Params Section\n",
    "device = 'cuda' if torch.cuda.is_available() else 'cpu'\n",
    "print(\"Using\", torch.cuda.device_count(), \"GPUs\")\n",
    "\n",
    "Solver = Solver(device)\n",
    "## Evaluation params\n",
    "ACC_list = []\n",
    "FS_list = []\n",
    "MCC_list = []\n"
   ]
  },
  {
   "cell_type": "code",
   "execution_count": null,
   "id": "b4f2e030",
   "metadata": {},
   "outputs": [
    {
     "name": "stdout",
     "output_type": "stream",
     "text": [
      "input views shape :\n",
      "view_0 :  torch.Size([400, 20])\n",
      "view_1 :  torch.Size([400, 20])\n",
      "view_2 :  torch.Size([400, 20])\n",
      "Start Hyperparams Tuning\n",
      "Sparsity selection number= 1 hyperparams= 1.0 obj= tensor(0.1681)\n",
      "Sparsity selection number= 2 hyperparams= 5.002986944615305 obj= tensor(0.1906)\n",
      "Sparsity selection number= 3 hyperparams= 9.326451978805826 obj= tensor(0.1926)\n",
      "Sparsity selection number= 4 hyperparams= 13.99605249474366 obj= tensor(0.1935)\n",
      "Sparsity selection number= 5 hyperparams= 19.039500008718846 obj= tensor(0.1905)\n",
      "Sparsity selection number= 6 hyperparams= 24.48672461377994 obj= tensor(0.1892)\n",
      "Sparsity selection number= 7 hyperparams= 30.37005259840998 obj= tensor(0.1889)\n",
      "Sparsity selection number= 8 hyperparams= 36.72439828530728 obj= tensor(0.1902)\n",
      "Sparsity selection number= 9 hyperparams= 43.587471228729044 obj= tensor(0.1917)\n",
      "Sparsity selection number= 10 hyperparams= 51.0 obj= tensor(0.1915)\n",
      "Finish Tuning!\n",
      "13.99605249474366\n",
      "SNGCCA Started!\n",
      "REP= 100\n"
     ]
    }
   ],
   "source": [
    "## Scenario 1\n",
    "FS = []\n",
    "MCC = []\n",
    "ACC = []\n",
    "N = 400\n",
    "views = create_synthData_new(N, mode=1, F=20)    \n",
    "print(f'input views shape :')\n",
    "for i, view in enumerate(views):\n",
    "    print(f'view_{i} :  {view.shape}')\n",
    "    view = view.to(\"cpu\")\n",
    "    \n",
    "## train hyper\n",
    "\n",
    "b0, obj = Solver.tune_hyper(x_list=views, set_params=10,max_params=50,iter=100)\n",
    "print(b0)\n",
    "\n",
    "print(\"SNGCCA Started!\")\n",
    "for rep in range(500):\n",
    "    if (rep + 1) % 100 == 0:\n",
    "        print(\"REP=\", rep + 1)\n",
    "    \n",
    "    ## fit results\n",
    "    u = Solver._get_outputs(views, 1e-7, 200, (b0,b0,b0))\n",
    "\n",
    "    Label = torch.cat([torch.ones(2, dtype=torch.bool), torch.zeros(18, dtype=torch.bool)])\n",
    "    acc,f1,mcc = FS_MCC(u, Label)\n",
    "    ACC.append(acc)\n",
    "    FS.append(f1)\n",
    "    MCC.append(mcc)"
   ]
  },
  {
   "cell_type": "code",
   "execution_count": 8,
   "id": "14e1b28c",
   "metadata": {},
   "outputs": [
    {
     "name": "stdout",
     "output_type": "stream",
     "text": [
      "0.9975999999999999 0.00639583197611279\n",
      "0.9890549450549452 0.02889918516206012\n",
      "0.9882629549372325 0.030909214124223112\n"
     ]
    }
   ],
   "source": [
    "macc = np.mean(ACC)\n",
    "sdacc = np.std(ACC)\n",
    "print(macc, sdacc)\n",
    "ACC_list.append([macc,sdacc])\n",
    "\n",
    "mf = np.mean(FS)\n",
    "sdf = np.std(FS)\n",
    "print(mf, sdf)\n",
    "FS_list.append([mf,sdf])\n",
    "\n",
    "mmcc = np.mean(MCC)\n",
    "sdmcc = np.std(MCC)\n",
    "print(mmcc, sdmcc)\n",
    "MCC_list.append([mmcc, sdmcc])"
   ]
  },
  {
   "cell_type": "code",
   "execution_count": 9,
   "id": "7e6548f8",
   "metadata": {},
   "outputs": [
    {
     "name": "stdout",
     "output_type": "stream",
     "text": [
      "input views shape :\n",
      "view_0 :  torch.Size([400, 20])\n",
      "view_1 :  torch.Size([400, 20])\n",
      "view_2 :  torch.Size([400, 20])\n",
      "Start Hyperparams Tuning\n",
      "Sparsity selection number= 1 hyperparams= 1.0 obj= tensor(0.0694)\n",
      "Sparsity selection number= 2 hyperparams= 5.002986944615305 obj= tensor(0.1646)\n",
      "Sparsity selection number= 3 hyperparams= 9.326451978805826 obj= tensor(0.0577)\n",
      "Sparsity selection number= 4 hyperparams= 13.99605249474366 obj= tensor(0.2744)\n",
      "Sparsity selection number= 5 hyperparams= 19.039500008718846 obj= tensor(0.1227)\n",
      "Sparsity selection number= 6 hyperparams= 24.48672461377994 obj= tensor(0.1558)\n",
      "Sparsity selection number= 7 hyperparams= 30.37005259840998 obj= tensor(0.1180)\n",
      "Sparsity selection number= 8 hyperparams= 36.72439828530728 obj= tensor(0.1594)\n",
      "Sparsity selection number= 9 hyperparams= 43.587471228729044 obj= tensor(0.0056)\n",
      "Sparsity selection number= 10 hyperparams= 51.0 obj= tensor(0.1094)\n",
      "Finish Tuning!\n",
      "13.99605249474366\n",
      "REP= 30\n",
      "REP= 60\n",
      "REP= 90\n"
     ]
    }
   ],
   "source": [
    "## Scenario 2\n",
    "from validation_method import FS_MCC\n",
    "ACC_2 = []\n",
    "FS_2 = []\n",
    "MCC_2 = []\n",
    "N = 400\n",
    "views = create_synthData_new(N, mode=2, F=20)\n",
    "\n",
    "print(f'input views shape :')\n",
    "for i, view in enumerate(views):\n",
    "    print(f'view_{i} :  {view.shape}')\n",
    "    view = view.to(\"cpu\")\n",
    "\n",
    "## train hyper\n",
    "b0, obj = Solver.tune_hyper(x_list=views, set_params=10,max_params=50,iter=100)\n",
    "print(b0)\n",
    "\n",
    "for rep in range(500):\n",
    "    if (rep + 1) % 100 == 0:\n",
    "        print(\"REP=\", rep + 1)\n",
    "    \n",
    "    ## fit results\n",
    "    u = Solver._get_outputs(views, 1e-7, 200, (b0,b0,b0))\n",
    "\n",
    "    Label = torch.cat([torch.ones(2, dtype=torch.bool), torch.zeros(18, dtype=torch.bool)])\n",
    "    acc,f1,mcc = FS_MCC(u, Label)\n",
    "    ACC_2.append(acc)\n",
    "    FS_2.append(f1)\n",
    "    MCC_2.append(mcc)"
   ]
  },
  {
   "cell_type": "code",
   "execution_count": 10,
   "id": "3d27aff9",
   "metadata": {},
   "outputs": [
    {
     "name": "stdout",
     "output_type": "stream",
     "text": [
      "0.9434999999999999 0.14647515906194547\n",
      "0.8933763128080017 0.2738150324505891\n",
      "0.8753058894507663 0.323405773174309\n"
     ]
    }
   ],
   "source": [
    "macc = np.mean(ACC_2)\n",
    "sdacc = np.std(ACC_2)\n",
    "print(macc, sdacc)\n",
    "ACC_list.append([macc,sdacc])\n",
    "\n",
    "mf = np.mean(FS_2)\n",
    "sdf = np.std(FS_2)\n",
    "print(mf, sdf)\n",
    "FS_list.append([mf,sdf])\n",
    "\n",
    "mmcc = np.mean(MCC_2)\n",
    "sdmcc = np.std(MCC_2)\n",
    "print(mmcc, sdmcc)\n",
    "MCC_list.append([mmcc, sdmcc])"
   ]
  },
  {
   "cell_type": "code",
   "execution_count": 11,
   "id": "b71e9b1d",
   "metadata": {},
   "outputs": [
    {
     "name": "stdout",
     "output_type": "stream",
     "text": [
      "input views shape :\n",
      "view_0 :  torch.Size([400, 20])\n",
      "view_1 :  torch.Size([400, 20])\n",
      "view_2 :  torch.Size([400, 20])\n",
      "Start Hyperparams Tuning\n",
      "Sparsity selection number= 1 hyperparams= 1.0 obj= tensor(0.0959)\n",
      "Sparsity selection number= 2 hyperparams= 5.002986944615305 obj= tensor(0.1184)\n",
      "Sparsity selection number= 3 hyperparams= 9.326451978805826 obj= tensor(0.1209)\n",
      "Sparsity selection number= 4 hyperparams= 13.99605249474366 obj= tensor(0.0993)\n",
      "Sparsity selection number= 5 hyperparams= 19.039500008718846 obj= tensor(0.1217)\n",
      "Sparsity selection number= 6 hyperparams= 24.48672461377994 obj= tensor(0.1223)\n",
      "Sparsity selection number= 7 hyperparams= 30.37005259840998 obj= tensor(0.1208)\n",
      "Sparsity selection number= 8 hyperparams= 36.72439828530728 obj= tensor(0.1187)\n",
      "Sparsity selection number= 9 hyperparams= 43.587471228729044 obj= tensor(0.1208)\n",
      "Sparsity selection number= 10 hyperparams= 51.0 obj= tensor(0.1197)\n",
      "Finish Tuning!\n",
      "24.48672461377994\n",
      "REP= 100\n"
     ]
    }
   ],
   "source": [
    "## Scenario 3\n",
    "FS_3 = []\n",
    "MCC_3 = []\n",
    "ACC_3 = []\n",
    "N = 400\n",
    "views = create_synthData_new(N, mode=3, F=20)\n",
    "\n",
    "print(f'input views shape :')\n",
    "for i, view in enumerate(views):\n",
    "    print(f'view_{i} :  {view.shape}')\n",
    "    view = view.to(\"cpu\")\n",
    "\n",
    "## train hyper\n",
    "b0, obj = Solver.tune_hyper(x_list=views, set_params=10,max_params=50,iter=100)\n",
    "print(b0)\n",
    "for rep in range(500):\n",
    "    if (rep + 1) % 100 == 0:\n",
    "        print(\"REP=\", rep + 1)\n",
    "\n",
    "    ## fit results\n",
    "    u = Solver._get_outputs(views, 1e-7, 200, (b0,b0,b0))\n",
    "\n",
    "    Label = torch.cat([torch.ones(2, dtype=torch.bool), torch.zeros(18, dtype=torch.bool)])\n",
    "    acc,f1,mcc = FS_MCC(u, Label)\n",
    "    ACC_3.append(acc)\n",
    "    FS_3.append(f1)\n",
    "    MCC_3.append(mcc)\n"
   ]
  },
  {
   "cell_type": "code",
   "execution_count": 12,
   "id": "83ad4184",
   "metadata": {},
   "outputs": [
    {
     "name": "stdout",
     "output_type": "stream",
     "text": [
      "0.9926666666666665 0.00922556833539872\n",
      "0.9664835164835165 0.04168226170336305\n",
      "0.9640339979497794 0.044583148679418254\n"
     ]
    }
   ],
   "source": [
    "macc = np.mean(ACC_3)\n",
    "sdacc = np.std(ACC_3)\n",
    "print(macc, sdacc)\n",
    "ACC_list.append([macc,sdacc])\n",
    "\n",
    "mf = np.mean(FS_3)\n",
    "sdf = np.std(FS_3)\n",
    "print(mf, sdf)\n",
    "FS_list.append([mf,sdf])\n",
    "\n",
    "mmcc = np.mean(MCC_3)\n",
    "sdmcc = np.std(MCC_3)\n",
    "print(mmcc, sdmcc)\n",
    "MCC_list.append([mmcc, sdmcc])"
   ]
  },
  {
   "cell_type": "code",
   "execution_count": 13,
   "id": "2bb64ba5",
   "metadata": {
    "scrolled": true
   },
   "outputs": [
    {
     "name": "stdout",
     "output_type": "stream",
     "text": [
      "[[0.9975999999999999, 0.00639583197611279], [0.9434999999999999, 0.14647515906194547], [0.9926666666666665, 0.00922556833539872]]\n",
      "[[0.9890549450549452, 0.02889918516206012], [0.8933763128080017, 0.2738150324505891], [0.9664835164835165, 0.04168226170336305]]\n",
      "[[0.9882629549372325, 0.030909214124223112], [0.8753058894507663, 0.323405773174309], [0.9640339979497794, 0.044583148679418254]]\n"
     ]
    }
   ],
   "source": [
    "print(ACC_list)\n",
    "print(FS_list)\n",
    "print(MCC_list)"
   ]
  },
  {
   "cell_type": "code",
   "execution_count": null,
   "id": "23344995",
   "metadata": {},
   "outputs": [],
   "source": []
  }
 ],
 "metadata": {
  "kernelspec": {
   "display_name": "Python 3 (ipykernel)",
   "language": "python",
   "name": "python3"
  },
  "language_info": {
   "codemirror_mode": {
    "name": "ipython",
    "version": 3
   },
   "file_extension": ".py",
   "mimetype": "text/x-python",
   "name": "python",
   "nbconvert_exporter": "python",
   "pygments_lexer": "ipython3",
   "version": "3.9.13"
  }
 },
 "nbformat": 4,
 "nbformat_minor": 5
}
