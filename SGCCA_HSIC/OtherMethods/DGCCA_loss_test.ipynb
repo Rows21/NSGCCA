{
 "cells": [
  {
   "cell_type": "markdown",
   "metadata": {
    "colab_type": "text",
    "id": "view-in-github"
   },
   "source": [
    "<a href=\"https://colab.research.google.com/github/arminarj/DGCCA-pytorch/blob/master/DGCCA_loss_test.ipynb\" target=\"_parent\"><img src=\"https://colab.research.google.com/assets/colab-badge.svg\" alt=\"Open In Colab\"/></a>"
   ]
  },
  {
   "cell_type": "code",
   "execution_count": 1,
   "metadata": {
    "colab": {},
    "colab_type": "code",
    "id": "9PcxwzgXQODv"
   },
   "outputs": [],
   "source": [
    "%load_ext autoreload\n",
    "%autoreload 2\n",
    "\n",
    "import torch\n",
    "import torch.nn as nn\n",
    "import numpy as np\n",
    "a=0"
   ]
  },
  {
   "cell_type": "code",
   "execution_count": 57,
   "metadata": {
    "colab": {},
    "colab_type": "code",
    "id": "LCS80-vPAu7n"
   },
   "outputs": [],
   "source": [
    "def GCCA_loss(H_list):\n",
    "    X=torch.stack(H_list).reshape(3,-1)\n",
    "    S = torch.cov(X)\n",
    "    corr = torch.sum(S)\n",
    "    loss = - corr\n",
    "    return loss"
   ]
  },
  {
   "cell_type": "code",
   "execution_count": 58,
   "metadata": {
    "colab": {},
    "colab_type": "code",
    "id": "Qf_XEQTf7FIl"
   },
   "outputs": [],
   "source": [
    "class MlpNet(nn.Module):\n",
    "    def __init__(self, layer_sizes, input_size):\n",
    "        super(MlpNet, self).__init__()\n",
    "        layers = []\n",
    "        layer_sizes = [input_size] + layer_sizes\n",
    "        for l_id in range(len(layer_sizes) - 1):\n",
    "            if l_id == len(layer_sizes) - 2:\n",
    "                layers.append(nn.Sequential(\n",
    "                    nn.Linear(layer_sizes[l_id], layer_sizes[l_id + 1]),\n",
    "                    nn.Sigmoid(), \n",
    "                    nn.BatchNorm1d(num_features=layer_sizes[l_id + 1], affine=False),\n",
    "                    \n",
    "                ))\n",
    "            else:\n",
    "                layers.append(nn.Sequential(\n",
    "                    nn.Linear(layer_sizes[l_id], layer_sizes[l_id + 1]),\n",
    "                    nn.ReLU(),\n",
    "                    # nn.BatchNorm1d(num_features=layer_sizes[l_id + 1], affine=True),\n",
    "                ))\n",
    "        self.layers = nn.ModuleList(layers)\n",
    "\n",
    "    def forward(self, x):\n",
    "        for layer in self.layers:\n",
    "            x = layer(x)\n",
    "        return x\n",
    "class DeepGCCA(nn.Module):\n",
    "    def __init__(self, layer_sizes1, layer_sizes2, input_size1, input_size2, outdim_size, use_all_singular_values, device=torch.device('cpu')):\n",
    "        super(DeepGCCA, self).__init__()\n",
    "        self.model1 = MlpNet(layer_sizes1, input_size1).double()\n",
    "        self.model2 = MlpNet(layer_sizes2, input_size2).double()\n",
    "        self.model3 = MlpNet(layer_sizes2, input_size2).double()\n",
    "\n",
    "    def forward(self, x1, x2, x3):\n",
    "        \"\"\"\n",
    "\n",
    "        x1, x2 are the vectors needs to be make correlated\n",
    "        dim=[batch_size, feats]\n",
    "\n",
    "        \"\"\"\n",
    "        # feature * batch_size\n",
    "        output1 = self.model1(x1)\n",
    "        output2 = self.model2(x2)\n",
    "        output3 = self.model3(x3)\n",
    "\n",
    "        return output1, output2, output3\n"
   ]
  },
  {
   "cell_type": "code",
   "execution_count": 59,
   "metadata": {},
   "outputs": [],
   "source": [
    "def create_synthData_new(N=400, outDir='./', device='cpu',mode=1,F=20):\n",
    "    '''\n",
    "    creating Main paper Synth data,\n",
    "    N : number of data\n",
    "    F$ : number of features in view $ \n",
    "    '''\n",
    "    views  = []\n",
    "    F1 = F\n",
    "    F2 = F  \n",
    "    F3 = F\n",
    "\n",
    "    V1 = np.random.randn(N, F1)\n",
    "    V2 = np.random.randn(N, F2)\n",
    "    V3 = np.random.randn(N, F3)\n",
    "    views.append(V1)\n",
    "    if mode==1:\n",
    "        V2[:,0]=V1[:,0]+V1[:,1]-V2[:,1]\n",
    "        V3[:,0]=V1[:,0]+2*V1[:,1]-V3[:,1]\n",
    "        \n",
    "    if mode==2:\n",
    "        V2[:,0]=np.sin(V1[:,0]+V1[:,1])-V2[:,1]\n",
    "        V3[:,0]=np.sin(V2[:,0]+V2[:,1])-V3[:,1]\n",
    "        \n",
    "    if mode==3:\n",
    "        V2[:,0]=1/(V1[:,0]+V1[:,1])-V2[:,1]\n",
    "        V3[:,0]=1/(V1[:,0]+V1[:,1])-V3[:,1]\n",
    "\n",
    "    views.append(V2) \n",
    "    views.append(V3)\n",
    "\n",
    "    views = [torch.tensor(view).to(device) for view in views]\n",
    "    return views"
   ]
  },
  {
   "cell_type": "code",
   "execution_count": 60,
   "metadata": {
    "colab": {},
    "colab_type": "code",
    "id": "9kK_5UIV6ofB"
   },
   "outputs": [],
   "source": [
    "lr = 1e-2\n",
    "device = 'cpu'\n",
    "torch.manual_seed(1)\n",
    "\n",
    "# size of the input for view 1 and view 2\n",
    "F=10\n",
    "input_shape1 = F\n",
    "input_shape2 = F\n",
    "input_shape3 = F\n",
    "X=create_synthData_new(mode=2,F=F)\n",
    "X1 = X[0]\n",
    "X2 = X[1]\n",
    "X3 = X[2]\n",
    "\n",
    "\n",
    "outdim_size = 1\n",
    "\n",
    "# number of layers with nodes in each one\n",
    "layer_sizes1 = [128, 128, outdim_size]\n",
    "layer_sizes2 = [128, 128, outdim_size]\n",
    "layer_sizes3 = [128, 128, outdim_size]\n"
   ]
  },
  {
   "cell_type": "code",
   "execution_count": 65,
   "metadata": {},
   "outputs": [
    {
     "data": {
      "text/plain": [
       "tensor(-3.7924, dtype=torch.float64)"
      ]
     },
     "execution_count": 65,
     "metadata": {},
     "output_type": "execute_result"
    },
    {
     "data": {
      "image/png": "[encoded data removed]",
      "text/plain": [
       "<Figure size 432x288 with 1 Axes>"
      ]
     },
     "metadata": {
      "needs_background": "light"
     },
     "output_type": "display_data"
    }
   ],
   "source": [
    "import matplotlib.pyplot as plt\n",
    "X=create_synthData_new(400,mode=3,F=10)\n",
    "X1 = X[0]\n",
    "X2 = X[1]\n",
    "X3 = X[2]\n",
    "x = X1[:,0]+X1[:,1]\n",
    "y = X2[:,0]+X2[:,1]\n",
    "plt.scatter(x,y)\n",
    "X1.min()"
   ]
  },
  {
   "cell_type": "code",
   "execution_count": 62,
   "metadata": {
    "colab": {},
    "colab_type": "code",
    "id": "2_ZRoVWWSNIw"
   },
   "outputs": [],
   "source": [
    "from copy import deepcopy as copy\n",
    "\n",
    "model = DeepGCCA(layer_sizes1, layer_sizes2, input_shape1, input_shape2, outdim_size, False, device).double().to(device)\n",
    "lr  = 1e-2\n",
    "optimizer = torch.optim.SGD(model.parameters(), lr=lr, momentum=0.9, weight_decay=0.5)\n",
    "scheduler = torch.optim.lr_scheduler.StepLR(optimizer, step_size=100, gamma=0.1)\n",
    "criterion = GCCA_loss\n",
    "\n",
    "train_loss = []\n",
    "\n",
    "model.train()\n",
    "\n",
    "for epoch in range(400):\n",
    "    optimizer.zero_grad()\n",
    "    out1, out2, out3 = model(X1, X2, X3)\n",
    "    loss = criterion([out1, out2, out3])\n",
    "    # print(loss)\n",
    "    train_loss.append(copy(loss.data))\n",
    "    loss.backward()\n",
    "    optimizer.step()\n",
    "    scheduler.step()\n"
   ]
  },
  {
   "cell_type": "code",
   "execution_count": 63,
   "metadata": {},
   "outputs": [
    {
     "data": {
      "text/plain": [
       "tensor(-8.6357, dtype=torch.float64, grad_fn=<NegBackward0>)"
      ]
     },
     "execution_count": 63,
     "metadata": {},
     "output_type": "execute_result"
    }
   ],
   "source": [
    "loss"
   ]
  },
  {
   "cell_type": "code",
   "execution_count": 70,
   "metadata": {},
   "outputs": [
    {
     "data": {
      "text/plain": [
       "tensor([[1.0000, 0.9784, 0.9782],\n",
       "        [0.9784, 1.0000, 0.9995],\n",
       "        [0.9782, 0.9995, 1.0000]], dtype=torch.float64,\n",
       "       grad_fn=<AsStridedBackward0>)"
      ]
     },
     "execution_count": 70,
     "metadata": {},
     "output_type": "execute_result"
    }
   ],
   "source": [
    "H_list =[out1, out2, out3]\n",
    "a=torch.stack([out1, out2, out3]).reshape(3,-1)\n",
    "b = torch.cov(a)\n",
    "\n",
    "for i in range(len(b)):\n",
    "    for j in range(len(b[i])):\n",
    "        b[i][j] /= torch.std(H_list[i])*torch.std(H_list[j])\n",
    "b"
   ]
  },
  {
   "cell_type": "code",
   "execution_count": 38,
   "metadata": {},
   "outputs": [
    {
     "data": {
      "text/plain": [
       "tensor([[-0.6814, -2.0779, -1.5268],\n",
       "        [-0.1326,  0.5697,  0.5753],\n",
       "        [ 0.8703,  2.0552,  0.3729],\n",
       "        ...,\n",
       "        [ 0.1502,  0.8841, -1.1338],\n",
       "        [ 0.1226, -0.9440,  2.2582],\n",
       "        [ 0.6393, -1.5740,  0.3744]], dtype=torch.float64,\n",
       "       grad_fn=<ReshapeAliasBackward0>)"
      ]
     },
     "execution_count": 38,
     "metadata": {},
     "output_type": "execute_result"
    }
   ],
   "source": [
    "torch.stack([out1, out2, out3]).reshape(3,400)"
   ]
  },
  {
   "cell_type": "code",
   "execution_count": null,
   "metadata": {
    "colab": {
     "base_uri": "https://localhost:8080/",
     "height": 302
    },
    "colab_type": "code",
    "id": "V5zmmffM9nJH",
    "outputId": "ee92626e-7e6f-447b-f95b-fc9b8d5c5325"
   },
   "outputs": [],
   "source": [
    "import pandas as pd\n",
    "\n",
    "loss_plt = pd.DataFrame(train_loss)\n",
    "loss_plt.plot()"
   ]
  },
  {
   "cell_type": "code",
   "execution_count": null,
   "metadata": {
    "colab": {
     "base_uri": "https://localhost:8080/",
     "height": 54
    },
    "colab_type": "code",
    "id": "dELtbHByC4I7",
    "outputId": "3ac37621-1c8d-4b1f-ab17-4b4574e3c448"
   },
   "outputs": [],
   "source": [
    "criterion([X1, X2, X3])"
   ]
  },
  {
   "cell_type": "code",
   "execution_count": null,
   "metadata": {
    "colab": {
     "base_uri": "https://localhost:8080/",
     "height": 87
    },
    "colab_type": "code",
    "id": "47uFfJdEDAWj",
    "outputId": "d2e56e6e-f111-4a4a-e340-30b4407aa74f"
   },
   "outputs": [],
   "source": [
    "print(criterion([X1, X1, X1]))\n",
    "print(criterion([X2, X2, X2]))\n",
    "print(criterion([X3, X3, X3]))"
   ]
  },
  {
   "cell_type": "code",
   "execution_count": null,
   "metadata": {
    "colab": {},
    "colab_type": "code",
    "id": "MG9mDDt0DHWC"
   },
   "outputs": [],
   "source": [
    "out1.shape"
   ]
  },
  {
   "cell_type": "code",
   "execution_count": null,
   "metadata": {},
   "outputs": [],
   "source": [
    "out"
   ]
  },
  {
   "cell_type": "code",
   "execution_count": null,
   "metadata": {},
   "outputs": [],
   "source": []
  }
 ],
 "metadata": {
  "colab": {
   "authorship_tag": "ABX9TyPsbWc5PBspg2E+fjIXsxWl",
   "collapsed_sections": [],
   "include_colab_link": true,
   "name": "DGCCA-loss-test.ipynb",
   "provenance": []
  },
  "kernelspec": {
   "display_name": "myconda",
   "language": "python",
   "name": "myconda"
  },
  "language_info": {
   "codemirror_mode": {
    "name": "ipython",
    "version": 3
   },
   "file_extension": ".py",
   "mimetype": "text/x-python",
   "name": "python",
   "nbconvert_exporter": "python",
   "pygments_lexer": "ipython3",
   "version": "3.8.12"
  }
 },
 "nbformat": 4,
 "nbformat_minor": 4
}
