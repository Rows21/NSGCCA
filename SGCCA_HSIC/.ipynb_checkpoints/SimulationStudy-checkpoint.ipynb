{
 "cells": [
  {
   "cell_type": "code",
   "execution_count": 1,
   "id": "2c221b2b",
   "metadata": {},
   "outputs": [],
   "source": [
    "from main import Solver\n",
    "import torch\n",
    "from synth_data import create_synthData_new\n",
    "from validation_method import FS_MCC\n",
    "import numpy as np"
   ]
  },
  {
   "cell_type": "code",
   "execution_count": 2,
   "id": "7b43f246",
   "metadata": {},
   "outputs": [
    {
     "name": "stdout",
     "output_type": "stream",
     "text": [
      "Using 0 GPUs\n"
     ]
    }
   ],
   "source": [
    "# Hyper Params Section\n",
    "device = 'cuda' if torch.cuda.is_available() else 'cpu'\n",
    "print(\"Using\", torch.cuda.device_count(), \"GPUs\")\n",
    "\n",
    "Solver = Solver(device)\n",
    "## Evaluation params\n",
    "ACC_list = []\n",
    "FS_list = []\n",
    "MCC_list = []\n"
   ]
  },
  {
   "cell_type": "code",
   "execution_count": 3,
   "id": "b4f2e030",
   "metadata": {},
   "outputs": [
    {
     "name": "stdout",
     "output_type": "stream",
     "text": [
      "input views shape :\n",
      "view_0 :  torch.Size([400, 20])\n",
      "view_1 :  torch.Size([400, 20])\n",
      "view_2 :  torch.Size([400, 20])\n",
      "Start Hyperparams Tuning\n",
      "Sparsity selection number= 1 hyperparams= (1.0, 1.0, 1.0) obj= tensor(0.1322)\n",
      "Sparsity selection number= 2 hyperparams= (1.0, 1.0, 7.071067811865475) obj= tensor(0.1747)\n",
      "Sparsity selection number= 3 hyperparams= (1.0, 1.0, 49.99999999999999) obj= tensor(0.1685)\n",
      "Sparsity selection number= 4 hyperparams= (1.0, 7.071067811865475, 7.071067811865475) obj= tensor(0.2111)\n",
      "Sparsity selection number= 5 hyperparams= (1.0, 7.071067811865475, 49.99999999999999) obj= tensor(0.2067)\n",
      "Sparsity selection number= 6 hyperparams= (1.0, 49.99999999999999, 49.99999999999999) obj= tensor(0.2075)\n",
      "Sparsity selection number= 7 hyperparams= (7.071067811865475, 7.071067811865475, 7.071067811865475) obj= tensor(0.2068)\n",
      "Sparsity selection number= 8 hyperparams= (7.071067811865475, 7.071067811865475, 49.99999999999999) obj= tensor(0.2017)\n",
      "Sparsity selection number= 9 hyperparams= (7.071067811865475, 49.99999999999999, 49.99999999999999) obj= tensor(0.1679)\n",
      "Sparsity selection number= 10 hyperparams= (49.99999999999999, 49.99999999999999, 49.99999999999999) obj= tensor(0.2055)\n",
      "Finish Tuning!\n",
      "(1.0, 7.071067811865475, 7.071067811865475)\n",
      "SNGCCA Started!\n",
      "REP= 10\n",
      "REP= 20\n",
      "REP= 30\n",
      "REP= 40\n",
      "REP= 50\n",
      "REP= 60\n",
      "REP= 70\n",
      "REP= 80\n",
      "REP= 90\n",
      "REP= 100\n"
     ]
    }
   ],
   "source": [
    "## Scenario 1\n",
    "FS = []\n",
    "MCC = []\n",
    "ACC = []\n",
    "N = 400\n",
    "views = create_synthData_new(N, mode=1, F=20)    \n",
    "print(f'input views shape :')\n",
    "for i, view in enumerate(views):\n",
    "    print(f'view_{i} :  {view.shape}')\n",
    "    view = view.to(\"cpu\")\n",
    "    \n",
    "## train hyper\n",
    "\n",
    "b0, obj = Solver.tune_hyper(x_list=views, set_params=3,iter=50)\n",
    "print(b0)\n",
    "\n",
    "print(\"SNGCCA Started!\")\n",
    "for rep in range(100):\n",
    "    if (rep + 1) % 10 == 0:\n",
    "        print(\"REP=\", rep + 1)\n",
    "    \n",
    "    ## fit results\n",
    "    u = Solver._get_outputs(views, 1e-7, 100, b0)\n",
    "\n",
    "    Label = torch.cat([torch.ones(2, dtype=torch.bool), torch.zeros(18, dtype=torch.bool)])\n",
    "    acc,f1,mcc = FS_MCC(u, Label)\n",
    "    ACC.append(acc)\n",
    "    FS.append(f1)\n",
    "    MCC.append(mcc)"
   ]
  },
  {
   "cell_type": "code",
   "execution_count": 4,
   "id": "14e1b28c",
   "metadata": {},
   "outputs": [
    {
     "name": "stdout",
     "output_type": "stream",
     "text": [
      "0.9995 0.002843120351538671\n",
      "0.9976923076923078 0.013122093930178456\n",
      "0.9975162289775118 0.014123319885196705\n"
     ]
    }
   ],
   "source": [
    "macc = np.mean(ACC)\n",
    "sdacc = np.std(ACC)\n",
    "print(macc, sdacc)\n",
    "ACC_list.append([macc,sdacc])\n",
    "\n",
    "mf = np.mean(FS)\n",
    "sdf = np.std(FS)\n",
    "print(mf, sdf)\n",
    "FS_list.append([mf,sdf])\n",
    "\n",
    "mmcc = np.mean(MCC)\n",
    "sdmcc = np.std(MCC)\n",
    "print(mmcc, sdmcc)\n",
    "MCC_list.append([mmcc, sdmcc])"
   ]
  },
  {
   "cell_type": "code",
   "execution_count": 5,
   "id": "7e6548f8",
   "metadata": {},
   "outputs": [
    {
     "name": "stdout",
     "output_type": "stream",
     "text": [
      "input views shape :\n",
      "view_0 :  torch.Size([400, 20])\n",
      "view_1 :  torch.Size([400, 20])\n",
      "view_2 :  torch.Size([400, 20])\n",
      "Start Hyperparams Tuning\n",
      "Sparsity selection number= 1 hyperparams= (1.0, 1.0, 1.0) obj= tensor(0.0627)\n",
      "Sparsity selection number= 2 hyperparams= (1.0, 1.0, 7.071067811865475) obj= tensor(0.0074)\n",
      "Sparsity selection number= 3 hyperparams= (1.0, 1.0, 49.99999999999999) obj= tensor(0.0077)\n",
      "Sparsity selection number= 4 hyperparams= (1.0, 7.071067811865475, 7.071067811865475) obj= tensor(0.1056)\n",
      "Sparsity selection number= 5 hyperparams= (1.0, 7.071067811865475, 49.99999999999999) obj= tensor(0.0063)\n",
      "Sparsity selection number= 6 hyperparams= (1.0, 49.99999999999999, 49.99999999999999) obj= tensor(0.1167)\n",
      "Sparsity selection number= 7 hyperparams= (7.071067811865475, 7.071067811865475, 7.071067811865475) obj= tensor(0.1140)\n",
      "Sparsity selection number= 8 hyperparams= (7.071067811865475, 7.071067811865475, 49.99999999999999) obj= tensor(0.0635)\n",
      "Sparsity selection number= 9 hyperparams= (7.071067811865475, 49.99999999999999, 49.99999999999999) obj= tensor(0.1118)\n",
      "Sparsity selection number= 10 hyperparams= (49.99999999999999, 49.99999999999999, 49.99999999999999) obj= tensor(0.1119)\n",
      "Finish Tuning!\n",
      "(1.0, 49.99999999999999, 49.99999999999999)\n",
      "REP= 10\n",
      "REP= 20\n",
      "REP= 30\n",
      "REP= 40\n",
      "REP= 50\n",
      "REP= 60\n",
      "REP= 70\n",
      "REP= 80\n",
      "REP= 90\n",
      "REP= 100\n"
     ]
    }
   ],
   "source": [
    "## Scenario 2\n",
    "from validation_method import FS_MCC\n",
    "ACC_2 = []\n",
    "FS_2 = []\n",
    "MCC_2 = []\n",
    "N = 400\n",
    "views = create_synthData_new(N, mode=2, F=20)\n",
    "\n",
    "print(f'input views shape :')\n",
    "for i, view in enumerate(views):\n",
    "    print(f'view_{i} :  {view.shape}')\n",
    "    view = view.to(\"cpu\")\n",
    "\n",
    "## train hyper\n",
    "b0, obj = Solver.tune_hyper(x_list=views, set_params=3,iter=50)\n",
    "print(b0)\n",
    "\n",
    "for rep in range(100):\n",
    "    if (rep + 1) % 10 == 0:\n",
    "        print(\"REP=\", rep + 1)\n",
    "    \n",
    "    ## fit results\n",
    "    u = Solver._get_outputs(views, 1e-7, 100, b0)\n",
    "\n",
    "    Label = torch.cat([torch.ones(2, dtype=torch.bool), torch.zeros(18, dtype=torch.bool)])\n",
    "    acc,f1,mcc = FS_MCC(u, Label)\n",
    "    ACC_2.append(acc)\n",
    "    FS_2.append(f1)\n",
    "    MCC_2.append(mcc)"
   ]
  },
  {
   "cell_type": "code",
   "execution_count": 6,
   "id": "3d27aff9",
   "metadata": {},
   "outputs": [
    {
     "name": "stdout",
     "output_type": "stream",
     "text": [
      "0.8703333333333333 0.1871063274659031\n",
      "0.7190703713776849 0.4039591167640373\n",
      "0.6658653887536796 0.48360642882196214\n"
     ]
    }
   ],
   "source": [
    "macc = np.mean(ACC_2)\n",
    "sdacc = np.std(ACC_2)\n",
    "print(macc, sdacc)\n",
    "ACC_list.append([macc,sdacc])\n",
    "\n",
    "mf = np.mean(FS_2)\n",
    "sdf = np.std(FS_2)\n",
    "print(mf, sdf)\n",
    "FS_list.append([mf,sdf])\n",
    "\n",
    "mmcc = np.mean(MCC_2)\n",
    "sdmcc = np.std(MCC_2)\n",
    "print(mmcc, sdmcc)\n",
    "MCC_list.append([mmcc, sdmcc])"
   ]
  },
  {
   "cell_type": "code",
   "execution_count": 7,
   "id": "b71e9b1d",
   "metadata": {},
   "outputs": [
    {
     "name": "stdout",
     "output_type": "stream",
     "text": [
      "input views shape :\n",
      "view_0 :  torch.Size([400, 20])\n",
      "view_1 :  torch.Size([400, 20])\n",
      "view_2 :  torch.Size([400, 20])\n",
      "Start Hyperparams Tuning\n",
      "Sparsity selection number= 1 hyperparams= (1.0, 1.0, 1.0) obj= tensor(0.1203)\n",
      "Sparsity selection number= 2 hyperparams= (1.0, 1.0, 7.071067811865475) obj= tensor(0.1364)\n",
      "Sparsity selection number= 3 hyperparams= (1.0, 1.0, 49.99999999999999) obj= tensor(0.1146)\n",
      "Sparsity selection number= 4 hyperparams= (1.0, 7.071067811865475, 7.071067811865475) obj= tensor(0.0966)\n",
      "Sparsity selection number= 5 hyperparams= (1.0, 7.071067811865475, 49.99999999999999) obj= tensor(0.0915)\n",
      "Sparsity selection number= 6 hyperparams= (1.0, 49.99999999999999, 49.99999999999999) obj= tensor(0.1223)\n",
      "Sparsity selection number= 7 hyperparams= (7.071067811865475, 7.071067811865475, 7.071067811865475) obj= tensor(0.1289)\n",
      "Sparsity selection number= 8 hyperparams= (7.071067811865475, 7.071067811865475, 49.99999999999999) obj= tensor(0.1192)\n",
      "Sparsity selection number= 9 hyperparams= (7.071067811865475, 49.99999999999999, 49.99999999999999) obj= tensor(0.0893)\n",
      "Sparsity selection number= 10 hyperparams= (49.99999999999999, 49.99999999999999, 49.99999999999999) obj= tensor(0.1198)\n",
      "Finish Tuning!\n",
      "(1.0, 1.0, 7.071067811865475)\n",
      "REP= 10\n",
      "REP= 20\n",
      "REP= 30\n",
      "REP= 40\n",
      "REP= 50\n",
      "REP= 60\n",
      "REP= 70\n",
      "REP= 80\n",
      "REP= 90\n",
      "REP= 100\n"
     ]
    }
   ],
   "source": [
    "## Scenario 3\n",
    "FS_3 = []\n",
    "MCC_3 = []\n",
    "ACC_3 = []\n",
    "N = 400\n",
    "views = create_synthData_new(N, mode=3, F=20)\n",
    "\n",
    "print(f'input views shape :')\n",
    "for i, view in enumerate(views):\n",
    "    print(f'view_{i} :  {view.shape}')\n",
    "    view = view.to(\"cpu\")\n",
    "\n",
    "## train hyper\n",
    "b0, obj = Solver.tune_hyper(x_list=views, set_params=3,iter=50)\n",
    "print(b0)\n",
    "for rep in range(100):\n",
    "    if (rep + 1) % 10 == 0:\n",
    "        print(\"REP=\", rep + 1)\n",
    "\n",
    "    ## fit results\n",
    "    u = Solver._get_outputs(views, 1e-7, 100, b0)\n",
    "\n",
    "    Label = torch.cat([torch.ones(2, dtype=torch.bool), torch.zeros(18, dtype=torch.bool)])\n",
    "    acc,f1,mcc = FS_MCC(u, Label)\n",
    "    ACC_3.append(acc)\n",
    "    FS_3.append(f1)\n",
    "    MCC_3.append(mcc)\n"
   ]
  },
  {
   "cell_type": "code",
   "execution_count": 8,
   "id": "83ad4184",
   "metadata": {},
   "outputs": [
    {
     "name": "stdout",
     "output_type": "stream",
     "text": [
      "0.99 0.02666666666666667\n",
      "0.9561904761904763 0.11602286410604992\n",
      "0.9516859485768091 0.12875312146354564\n"
     ]
    }
   ],
   "source": [
    "macc = np.mean(ACC_3)\n",
    "sdacc = np.std(ACC_3)\n",
    "print(macc, sdacc)\n",
    "ACC_list.append([macc,sdacc])\n",
    "\n",
    "mf = np.mean(FS_3)\n",
    "sdf = np.std(FS_3)\n",
    "print(mf, sdf)\n",
    "FS_list.append([mf,sdf])\n",
    "\n",
    "mmcc = np.mean(MCC_3)\n",
    "sdmcc = np.std(MCC_3)\n",
    "print(mmcc, sdmcc)\n",
    "MCC_list.append([mmcc, sdmcc])"
   ]
  },
  {
   "cell_type": "code",
   "execution_count": 9,
   "id": "2bb64ba5",
   "metadata": {},
   "outputs": [
    {
     "name": "stdout",
     "output_type": "stream",
     "text": [
      "[[0.9995, 0.002843120351538671], [0.8703333333333333, 0.1871063274659031], [0.99, 0.02666666666666667]]\n",
      "[[0.9976923076923078, 0.013122093930178456], [0.7190703713776849, 0.4039591167640373], [0.9561904761904763, 0.11602286410604992]]\n",
      "[[0.9975162289775118, 0.014123319885196705], [0.6658653887536796, 0.48360642882196214], [0.9516859485768091, 0.12875312146354564]]\n"
     ]
    }
   ],
   "source": [
    "print(ACC_list)\n",
    "print(FS_list)\n",
    "print(MCC_list)"
   ]
  },
  {
   "cell_type": "code",
   "execution_count": null,
   "id": "3b77caca",
   "metadata": {},
   "outputs": [],
   "source": []
  }
 ],
 "metadata": {
  "kernelspec": {
   "display_name": "Python 3 (ipykernel)",
   "language": "python",
   "name": "python3"
  },
  "language_info": {
   "codemirror_mode": {
    "name": "ipython",
    "version": 3
   },
   "file_extension": ".py",
   "mimetype": "text/x-python",
   "name": "python",
   "nbconvert_exporter": "python",
   "pygments_lexer": "ipython3",
   "version": "3.9.13"
  }
 },
 "nbformat": 4,
 "nbformat_minor": 5
}
