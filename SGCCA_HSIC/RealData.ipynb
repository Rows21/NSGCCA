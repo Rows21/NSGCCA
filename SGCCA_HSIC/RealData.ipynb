{
 "cells": [
  {
   "cell_type": "code",
   "execution_count": 1,
   "id": "aa5273e5",
   "metadata": {},
   "outputs": [
    {
     "name": "stdout",
     "output_type": "stream",
     "text": [
      "Using 0 GPUs\n"
     ]
    }
   ],
   "source": [
    "from main import Solver\n",
    "import torch\n",
    "\n",
    "import numpy as np\n",
    "\n",
    "# Hyper Params Section\n",
    "device = 'cuda' if torch.cuda.is_available() else 'cpu'\n",
    "print(\"Using\", torch.cuda.device_count(), \"GPUs\")\n",
    "\n",
    "\n",
    "\n",
    "Exp = np.loadtxt(\"C:/Users/Programer/Documents/GitHub/SGCCA_HSIC/SGCCA_HSIC/RealData/Exp664.txt\")\n",
    "Meth = np.loadtxt(\"C:/Users/Programer/Documents/GitHub/SGCCA_HSIC/SGCCA_HSIC/RealData/Meth664.txt\")\n",
    "miRNA = np.loadtxt(\"C:/Users/Programer/Documents/GitHub/SGCCA_HSIC/SGCCA_HSIC/RealData/miRNA664.txt\")\n",
    "\n",
    "views = [Exp.T,Meth.T,miRNA.T]\n",
    "views = [torch.tensor(view).to(device) for view in views]\n",
    "\n",
    "print(f'input views shape :')\n",
    "for i, view in enumerate(views):\n",
    "    print(f'view_{i} :  {view.shape}')\n",
    "    view = view.to(\"cpu\")"
   ]
  },
  {
   "cell_type": "code",
   "execution_count": null,
   "id": "72ce7938",
   "metadata": {},
   "outputs": [],
   "source": [
    "## Analysis\n",
    "Solver = Solver()\n",
    "u = Solver._get_outputs(views, 1e-7, 100, (1,1,1))"
   ]
  }
 ],
 "metadata": {
  "kernelspec": {
   "display_name": "Python 3 (ipykernel)",
   "language": "python",
   "name": "python3"
  },
  "language_info": {
   "codemirror_mode": {
    "name": "ipython",
    "version": 3
   },
   "file_extension": ".py",
   "mimetype": "text/x-python",
   "name": "python",
   "nbconvert_exporter": "python",
   "pygments_lexer": "ipython3",
   "version": "3.9.13"
  }
 },
 "nbformat": 4,
 "nbformat_minor": 5
}
