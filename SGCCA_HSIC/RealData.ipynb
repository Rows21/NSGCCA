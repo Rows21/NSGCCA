{
 "cells": [
  {
   "cell_type": "code",
   "execution_count": 204,
   "id": "aa5273e5",
   "metadata": {},
   "outputs": [
    {
     "name": "stdout",
     "output_type": "stream",
     "text": [
      "Using 1 GPUs\n",
      "(398, 6377)\n",
      "input train data shape :\n",
      "view_0 :  torch.Size([398, 2642])\n",
      "view_1 :  torch.Size([398, 3298])\n",
      "view_2 :  torch.Size([398, 436])\n",
      "input validation data shape :\n",
      "view_0 :  torch.Size([133, 2642])\n",
      "view_1 :  torch.Size([133, 3298])\n",
      "view_2 :  torch.Size([133, 436])\n",
      "input test data shape :\n",
      "view_0 :  torch.Size([133, 2642])\n",
      "view_1 :  torch.Size([133, 3298])\n",
      "view_2 :  torch.Size([133, 436])\n",
      "input label data shape : (398, 1) (133, 1) (133, 1)\n"
     ]
    }
   ],
   "source": [
    "from main import Solver\n",
    "import torch\n",
    "import numpy as np\n",
    "import pandas as pd\n",
    "\n",
    "# Hyper Params Section\n",
    "device = 'cuda' if torch.cuda.is_available() else 'cpu'\n",
    "print(\"Using\", torch.cuda.device_count(), \"GPUs\")\n",
    "\n",
    "\n",
    "Exp_label = pd.read_csv('Exp664_genes.txt', sep='\\t',header = None)\n",
    "Exp_list = Exp_label.iloc[:, 0].values.tolist()\n",
    "Exp = pd.DataFrame(np.loadtxt(\"Exp664.txt\").T,columns = Exp_label)\n",
    "\n",
    "Meth_label = pd.read_csv('Meth664_probes.txt', sep='\\t',header = None)\n",
    "Meth_list = Meth_label.iloc[:, 0].values.tolist()\n",
    "Meth = pd.DataFrame(np.loadtxt(\"Meth664.txt\").T,columns = Meth_label)\n",
    "\n",
    "miRNA_label = pd.read_csv('miRNA664_miRNA.txt', sep='\\t',header = None)\n",
    "miRNA_list = miRNA_label.iloc[:, 0].values.tolist()\n",
    "miRNA = pd.DataFrame(np.loadtxt(\"miRNA664.txt\").T,columns = miRNA_label)\n",
    "\n",
    "y = pd.read_csv('PAM50label664.txt',header = None)\n",
    "views = [Exp,Meth,miRNA]\n",
    "\n",
    "\n",
    "length = [1]\n",
    "\n",
    "for i, view in enumerate(views):\n",
    "    length.append(view.shape[1])\n",
    "\n",
    "## Merging 3 Inputs\n",
    "Merge = pd.concat((Exp, Meth, miRNA), axis=1)\n",
    "\n",
    "from sklearn.model_selection import train_test_split\n",
    "## Train 0.6, Val 0.2, Test 0.2\n",
    "train_ratio = 0.6\n",
    "val_ratio = 0.2\n",
    "test_ratio = 0.2\n",
    "\n",
    "size_1 = test_ratio\n",
    "size_2 = val_ratio / (train_ratio+val_ratio)\n",
    "\n",
    "# Train, Test\n",
    "X_train, X_test, y_train, y_test = train_test_split(Merge, y, test_size=size_1, random_state=42)\n",
    "# Train, Val\n",
    "X_train, X_val, y_train, y_val = train_test_split(X_train, y_train, test_size=size_2, random_state=42)\n",
    "\n",
    "train_dataframe = []\n",
    "val_dataframe = []\n",
    "test_dataframe = []\n",
    "train_data = []\n",
    "val_data = []\n",
    "test_data = []\n",
    "print(X_train.shape)\n",
    "for i in range(len(length)-1):\n",
    "    a = sum(length[:(i+1)])\n",
    "    b = sum(length[:(i+2)])\n",
    "    train_dataframe.append(X_train.iloc[:,a:b])\n",
    "    train_data.append(torch.tensor(X_train.iloc[:,a:b].values))\n",
    "    val_dataframe.append(X_val.iloc[:,a:b])\n",
    "    val_data.append(torch.tensor(X_val.iloc[:,a:b].values))\n",
    "    test_dataframe.append(X_test.iloc[:,a:b])\n",
    "    test_data.append(torch.tensor(X_test.iloc[:,a:b].values))\n",
    "\n",
    "print(f'input train data shape :')\n",
    "for i, view in enumerate(train_data):\n",
    "    print(f'view_{i} :  {view.shape}')\n",
    "    view = view.to(device)\n",
    "print(f'input validation data shape :')\n",
    "for i, view in enumerate(val_data):\n",
    "    print(f'view_{i} :  {view.shape}')\n",
    "    view = view.to(device)\n",
    "print(f'input test data shape :')\n",
    "for i, view in enumerate(test_data):\n",
    "    print(f'view_{i} :  {view.shape}')\n",
    "    view = view.to(device)\n",
    "print(f'input label data shape :',y_train.shape,y_val.shape,y_test.shape)\n",
    "\n",
    "Solver = Solver(device)"
   ]
  },
  {
   "cell_type": "code",
   "execution_count": null,
   "id": "72ce7938",
   "metadata": {},
   "outputs": [
    {
     "name": "stdout",
     "output_type": "stream",
     "text": [
      "SNGCCA Started!\n"
     ]
    }
   ],
   "source": [
    "## Analysis\n",
    "\n",
    "u = Solver._get_outputs(train_data, 1e-7, 100, (1,1,1))\n"
   ]
  },
  {
   "cell_type": "code",
   "execution_count": null,
   "id": "49559d3c-44e5-4fc4-b7c9-98fefe36beb2",
   "metadata": {},
   "outputs": [],
   "source": []
  }
 ],
 "metadata": {
  "kernelspec": {
   "display_name": "myconda",
   "language": "python",
   "name": "myconda"
  },
  "language_info": {
   "codemirror_mode": {
    "name": "ipython",
    "version": 3
   },
   "file_extension": ".py",
   "mimetype": "text/x-python",
   "name": "python",
   "nbconvert_exporter": "python",
   "pygments_lexer": "ipython3",
   "version": "3.8.12"
  }
 },
 "nbformat": 4,
 "nbformat_minor": 5
}
