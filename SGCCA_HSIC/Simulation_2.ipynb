{
 "cells": [
  {
   "cell_type": "code",
   "execution_count": 7,
   "id": "866f4c17",
   "metadata": {},
   "outputs": [
    {
     "name": "stdout",
     "output_type": "stream",
     "text": [
      "Using 0 GPUs\n"
     ]
    }
   ],
   "source": [
    "from main import Solver\n",
    "import torch\n",
    "from synth_data import create_synthData_new, create_synthData_multi\n",
    "from validation_method import FS_MCC\n",
    "import numpy as np\n",
    "\n",
    "# Hyper Params Section\n",
    "device = 'cuda' if torch.cuda.is_available() else 'cpu'\n",
    "print(\"Using\", torch.cuda.device_count(), \"GPUs\")\n",
    "\n",
    "Solver = Solver(device)\n",
    "## Evaluation params\n",
    "ACC_list = []\n",
    "FS_list = []\n",
    "MCC_list = []\n"
   ]
  },
  {
   "cell_type": "code",
   "execution_count": 11,
   "id": "70423f07",
   "metadata": {},
   "outputs": [
    {
     "name": "stdout",
     "output_type": "stream",
     "text": [
      "input views shape :\n",
      "view_0 :  torch.Size([400, 20])\n",
      "view_1 :  torch.Size([400, 20])\n",
      "view_2 :  torch.Size([400, 20])\n",
      "Start Hyperparams Tuning\n",
      "Sparsity selection number= 1 hyperparams= (1.0, 1.0, 1.0) obj= tensor(0.0891)\n",
      "Sparsity selection number= 2 hyperparams= (1.0, 1.0, 7.071067811865475) obj= tensor(0.2136)\n"
     ]
    },
    {
     "ename": "KeyboardInterrupt",
     "evalue": "",
     "output_type": "error",
     "traceback": [
      "\u001b[1;31m---------------------------------------------------------------------------\u001b[0m",
      "\u001b[1;31mKeyboardInterrupt\u001b[0m                         Traceback (most recent call last)",
      "Cell \u001b[1;32mIn[11], line 14\u001b[0m\n\u001b[0;32m     11\u001b[0m     view \u001b[38;5;241m=\u001b[39m view\u001b[38;5;241m.\u001b[39mto(\u001b[38;5;124m\"\u001b[39m\u001b[38;5;124mcpu\u001b[39m\u001b[38;5;124m\"\u001b[39m)\n\u001b[0;32m     13\u001b[0m \u001b[38;5;66;03m## train hyper\u001b[39;00m\n\u001b[1;32m---> 14\u001b[0m b0, obj \u001b[38;5;241m=\u001b[39m \u001b[43mSolver\u001b[49m\u001b[38;5;241;43m.\u001b[39;49m\u001b[43mtune_hyper\u001b[49m\u001b[43m(\u001b[49m\u001b[43mx_list\u001b[49m\u001b[38;5;241;43m=\u001b[39;49m\u001b[43mviews\u001b[49m\u001b[43m,\u001b[49m\u001b[43m \u001b[49m\u001b[43mset_params\u001b[49m\u001b[38;5;241;43m=\u001b[39;49m\u001b[38;5;241;43m3\u001b[39;49m\u001b[43m,\u001b[49m\u001b[38;5;28;43miter\u001b[39;49m\u001b[38;5;241;43m=\u001b[39;49m\u001b[38;5;241;43m50\u001b[39;49m\u001b[43m)\u001b[49m\n\u001b[0;32m     15\u001b[0m \u001b[38;5;28mprint\u001b[39m(b0)\n\u001b[0;32m     17\u001b[0m \u001b[38;5;28mprint\u001b[39m(\u001b[38;5;124m\"\u001b[39m\u001b[38;5;124mSNGCCA Started!\u001b[39m\u001b[38;5;124m\"\u001b[39m)\n",
      "File \u001b[1;32m~\\Documents\\GitHub\\SGCCA_HSIC\\SGCCA_HSIC\\main.py:62\u001b[0m, in \u001b[0;36mSolver.tune_hyper\u001b[1;34m(self, x_list, set_params, eps, iter, k)\u001b[0m\n\u001b[0;32m     59\u001b[0m     non_fold_index \u001b[38;5;241m=\u001b[39m [num \u001b[38;5;28;01mfor\u001b[39;00m num \u001b[38;5;129;01min\u001b[39;00m shuffled_index \u001b[38;5;28;01mif\u001b[39;00m num \u001b[38;5;129;01mnot\u001b[39;00m \u001b[38;5;129;01min\u001b[39;00m fold_index[i]]\n\u001b[0;32m     60\u001b[0m     train_data\u001b[38;5;241m.\u001b[39mappend(view[non_fold_index, :])\n\u001b[1;32m---> 62\u001b[0m u \u001b[38;5;241m=\u001b[39m \u001b[38;5;28;43mself\u001b[39;49m\u001b[38;5;241;43m.\u001b[39;49m\u001b[43mSNGCCA\u001b[49m\u001b[38;5;241;43m.\u001b[39;49m\u001b[43mfit\u001b[49m\u001b[43m(\u001b[49m\u001b[43mtrain_data\u001b[49m\u001b[43m,\u001b[49m\u001b[43meps\u001b[49m\u001b[43m,\u001b[49m\u001b[38;5;28;43miter\u001b[39;49m\u001b[43m,\u001b[49m\u001b[43maa\u001b[49m\u001b[43m,\u001b[49m\u001b[43mlogging\u001b[49m\u001b[38;5;241;43m=\u001b[39;49m\u001b[38;5;241;43m0\u001b[39;49m\u001b[43m)\u001b[49m\n\u001b[0;32m     64\u001b[0m \u001b[38;5;66;03m# Save iterations\u001b[39;00m\n\u001b[0;32m     65\u001b[0m \u001b[38;5;66;03m## calculate K,cK for validation set\u001b[39;00m\n\u001b[0;32m     66\u001b[0m K_test \u001b[38;5;241m=\u001b[39m []\n",
      "File \u001b[1;32m~\\Documents\\GitHub\\SGCCA_HSIC\\SGCCA_HSIC\\sngcca.py:122\u001b[0m, in \u001b[0;36mSNGCCA.fit\u001b[1;34m(self, views, eps, maxit, b, loss, early_stopping, patience, logging)\u001b[0m\n\u001b[0;32m    119\u001b[0m cK_list_SGD \u001b[38;5;241m=\u001b[39m [\u001b[38;5;28mself\u001b[39m\u001b[38;5;241m.\u001b[39mcK_list[j] \u001b[38;5;28;01mfor\u001b[39;00m j \u001b[38;5;129;01min\u001b[39;00m \u001b[38;5;28mrange\u001b[39m(n_view) \u001b[38;5;28;01mif\u001b[39;00m j \u001b[38;5;241m!=\u001b[39m i]\n\u001b[0;32m    121\u001b[0m \u001b[38;5;66;03m## Calculate Delta and Gamma\u001b[39;00m\n\u001b[1;32m--> 122\u001b[0m grad \u001b[38;5;241m=\u001b[39m \u001b[38;5;28;43mself\u001b[39;49m\u001b[38;5;241;43m.\u001b[39;49m\u001b[43mgene_SGD\u001b[49m\u001b[43m(\u001b[49m\u001b[38;5;28;43mself\u001b[39;49m\u001b[38;5;241;43m.\u001b[39;49m\u001b[43mK_list\u001b[49m\u001b[43m[\u001b[49m\u001b[43mi\u001b[49m\u001b[43m]\u001b[49m\u001b[43m,\u001b[49m\u001b[43m \u001b[49m\u001b[43mcK_list_SGD\u001b[49m\u001b[43m,\u001b[49m\u001b[43m \u001b[49m\u001b[43mview\u001b[49m\u001b[43m,\u001b[49m\u001b[43m \u001b[49m\u001b[38;5;28;43mself\u001b[39;49m\u001b[38;5;241;43m.\u001b[39;49m\u001b[43ma_list\u001b[49m\u001b[43m[\u001b[49m\u001b[43mi\u001b[49m\u001b[43m]\u001b[49m\u001b[43m,\u001b[49m\u001b[43m \u001b[49m\u001b[38;5;28;43mself\u001b[39;49m\u001b[38;5;241;43m.\u001b[39;49m\u001b[43mu_list\u001b[49m\u001b[43m[\u001b[49m\u001b[43mi\u001b[49m\u001b[43m]\u001b[49m\u001b[43m)\u001b[49m\n\u001b[0;32m    123\u001b[0m gamma \u001b[38;5;241m=\u001b[39m torch\u001b[38;5;241m.\u001b[39mnorm(grad, p\u001b[38;5;241m=\u001b[39m\u001b[38;5;241m2\u001b[39m)\n\u001b[0;32m    125\u001b[0m \u001b[38;5;66;03m## Start Line Search\u001b[39;00m\n",
      "File \u001b[1;32m~\\Documents\\GitHub\\SGCCA_HSIC\\SGCCA_HSIC\\sngcca.py:54\u001b[0m, in \u001b[0;36mSNGCCA.gene_SGD\u001b[1;34m(self, K1, cK_list, X, a, u)\u001b[0m\n\u001b[0;32m     52\u001b[0m res \u001b[38;5;241m=\u001b[39m torch\u001b[38;5;241m.\u001b[39mempty(u\u001b[38;5;241m.\u001b[39mshape[\u001b[38;5;241m0\u001b[39m], \u001b[38;5;241m1\u001b[39m)\u001b[38;5;241m.\u001b[39mto(\u001b[38;5;28mself\u001b[39m\u001b[38;5;241m.\u001b[39mdevice)\n\u001b[0;32m     53\u001b[0m \u001b[38;5;28;01mfor\u001b[39;00m i \u001b[38;5;129;01min\u001b[39;00m \u001b[38;5;28mrange\u001b[39m((\u001b[38;5;28mlen\u001b[39m(cK_list))):\n\u001b[1;32m---> 54\u001b[0m     temp \u001b[38;5;241m=\u001b[39m \u001b[38;5;28;43mself\u001b[39;49m\u001b[38;5;241;43m.\u001b[39;49m\u001b[43mgradf_gauss_SGD\u001b[49m\u001b[43m(\u001b[49m\u001b[43mK1\u001b[49m\u001b[43m,\u001b[49m\u001b[43m \u001b[49m\u001b[43mcK_list\u001b[49m\u001b[43m[\u001b[49m\u001b[43mi\u001b[49m\u001b[43m]\u001b[49m\u001b[43m,\u001b[49m\u001b[43m \u001b[49m\u001b[43mX\u001b[49m\u001b[43m,\u001b[49m\u001b[43m \u001b[49m\u001b[43ma\u001b[49m\u001b[43m,\u001b[49m\u001b[43m \u001b[49m\u001b[43mu\u001b[49m\u001b[43m)\u001b[49m\n\u001b[0;32m     55\u001b[0m     res \u001b[38;5;241m+\u001b[39m\u001b[38;5;241m=\u001b[39m temp\n\u001b[0;32m     56\u001b[0m \u001b[38;5;28;01mreturn\u001b[39;00m res\n",
      "File \u001b[1;32m~\\Documents\\GitHub\\SGCCA_HSIC\\SGCCA_HSIC\\sngcca.py:47\u001b[0m, in \u001b[0;36mSNGCCA.gradf_gauss_SGD\u001b[1;34m(self, K1, cK2, X, a, u)\u001b[0m\n\u001b[0;32m     45\u001b[0m         a \u001b[38;5;241m=\u001b[39m id1[i]\n\u001b[0;32m     46\u001b[0m         b \u001b[38;5;241m=\u001b[39m id2[j]\n\u001b[1;32m---> 47\u001b[0m         temp1 \u001b[38;5;241m+\u001b[39m\u001b[38;5;241m=\u001b[39m K1[a, b] \u001b[38;5;241m*\u001b[39m cK2[a, b] \u001b[38;5;241m*\u001b[39m torch\u001b[38;5;241m.\u001b[39mger(\u001b[43mX\u001b[49m\u001b[43m[\u001b[49m\u001b[43ma\u001b[49m\u001b[43m,\u001b[49m\u001b[43m \u001b[49m\u001b[43m:\u001b[49m\u001b[43m]\u001b[49m\u001b[43m \u001b[49m\u001b[38;5;241;43m-\u001b[39;49m\u001b[43m \u001b[49m\u001b[43mX\u001b[49m\u001b[43m[\u001b[49m\u001b[43mb\u001b[49m\u001b[43m,\u001b[49m\u001b[43m \u001b[49m\u001b[43m:\u001b[49m\u001b[43m]\u001b[49m, X[a, :] \u001b[38;5;241m-\u001b[39m X[b, :])\u001b[38;5;241m.\u001b[39mto(\u001b[38;5;28mself\u001b[39m\u001b[38;5;241m.\u001b[39mdevice)\n\u001b[0;32m     48\u001b[0m final \u001b[38;5;241m=\u001b[39m \u001b[38;5;241m-\u001b[39m\u001b[38;5;241m2\u001b[39m \u001b[38;5;241m*\u001b[39m au \u001b[38;5;241m*\u001b[39m u\u001b[38;5;241m.\u001b[39mt() \u001b[38;5;241m@\u001b[39m temp1\n\u001b[0;32m     49\u001b[0m \u001b[38;5;28;01mreturn\u001b[39;00m final\u001b[38;5;241m.\u001b[39mt()\n",
      "\u001b[1;31mKeyboardInterrupt\u001b[0m: "
     ]
    }
   ],
   "source": [
    "## Scenario 1\n",
    "for i in range(4,11,2):\n",
    "    FS = []\n",
    "    MCC = []\n",
    "    ACC = []\n",
    "    N = 400\n",
    "    views = create_synthData_multi(i=i, data_type=1,N=400, p=20, q=20, r=20)    \n",
    "    print(f'input views shape :')\n",
    "    for i, view in enumerate(views):\n",
    "        print(f'view_{i} :  {view.shape}')\n",
    "        view = view.to(\"cpu\")\n",
    "\n",
    "    ## train hyper\n",
    "    b0, obj = Solver.tune_hyper(x_list=views, set_params=3,iter=50)\n",
    "    print(b0)\n",
    "\n",
    "    print(\"SNGCCA Started!\")\n",
    "    for rep in range(1):\n",
    "        if (rep + 1) % 100 == 0:\n",
    "            print(\"REP=\", rep + 1)\n",
    "\n",
    "        ## fit results\n",
    "        u = Solver._get_outputs(views, 1e-7, 100, b0)\n",
    "\n",
    "        Label = torch.cat([torch.ones(2, dtype=torch.bool), torch.zeros(18, dtype=torch.bool)])\n",
    "        acc,f1,mcc = FS_MCC(u, Label)\n",
    "        ACC.append(acc)\n",
    "        FS.append(f1)\n",
    "        MCC.append(mcc)\n",
    "\n",
    "    macc = np.mean(ACC)\n",
    "    sdacc = np.std(ACC)\n",
    "    print(macc, sdacc)\n",
    "    ACC_list.append([macc,sdacc])\n",
    "\n",
    "    mf = np.mean(FS)\n",
    "    sdf = np.std(FS)\n",
    "    print(mf, sdf)\n",
    "    FS_list.append([mf,sdf])\n",
    "\n",
    "    mmcc = np.mean(MCC)\n",
    "    sdmcc = np.std(MCC)\n",
    "    print(mmcc, sdmcc)\n",
    "    MCC_list.append([mmcc, sdmcc])"
   ]
  },
  {
   "cell_type": "code",
   "execution_count": 10,
   "id": "bdd75ee8",
   "metadata": {},
   "outputs": [
    {
     "name": "stdout",
     "output_type": "stream",
     "text": [
      "4\n",
      "6\n",
      "8\n",
      "10\n"
     ]
    }
   ],
   "source": [
    "for i in range(4,11,2):\n",
    "    print(i)"
   ]
  },
  {
   "cell_type": "code",
   "execution_count": null,
   "id": "7e0cf0b1",
   "metadata": {},
   "outputs": [],
   "source": []
  }
 ],
 "metadata": {
  "kernelspec": {
   "display_name": "Python 3 (ipykernel)",
   "language": "python",
   "name": "python3"
  },
  "language_info": {
   "codemirror_mode": {
    "name": "ipython",
    "version": 3
   },
   "file_extension": ".py",
   "mimetype": "text/x-python",
   "name": "python",
   "nbconvert_exporter": "python",
   "pygments_lexer": "ipython3",
   "version": "3.9.13"
  }
 },
 "nbformat": 4,
 "nbformat_minor": 5
}
