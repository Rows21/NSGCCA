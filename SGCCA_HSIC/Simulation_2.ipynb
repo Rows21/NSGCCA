{
 "cells": [
  {
   "cell_type": "code",
   "execution_count": 12,
   "id": "866f4c17",
   "metadata": {},
   "outputs": [
    {
     "name": "stdout",
     "output_type": "stream",
     "text": [
      "Using 0 GPUs\n"
     ]
    }
   ],
   "source": [
    "from main import Solver\n",
    "import torch\n",
    "from synth_data import create_synthData_new, create_synthData_multi\n",
    "from validation_method import FS_MCC\n",
    "import numpy as np\n",
    "\n",
    "# Hyper Params Section\n",
    "device = 'cuda' if torch.cuda.is_available() else 'cpu'\n",
    "print(\"Using\", torch.cuda.device_count(), \"GPUs\")\n",
    "\n",
    "Solver = Solver(device)\n",
    "## Evaluation params\n",
    "ACC_list = []\n",
    "FS_list = []\n",
    "MCC_list = []\n"
   ]
  },
  {
   "cell_type": "code",
   "execution_count": 14,
   "id": "70423f07",
   "metadata": {},
   "outputs": [
    {
     "name": "stdout",
     "output_type": "stream",
     "text": [
      "4\n",
      "input views shape :\n",
      "view_0 :  torch.Size([400, 20])\n",
      "view_1 :  torch.Size([400, 20])\n",
      "view_2 :  torch.Size([400, 20])\n",
      "Start Hyperparams Tuning\n",
      "Sparsity selection number= 1 hyperparams= (1.0, 1.0, 1.0) obj= tensor(0.1642)\n",
      "Finish Tuning!\n",
      "(1.0, 1.0, 1.0)\n",
      "SNGCCA Started!\n",
      "0.9333333333333333 0.0\n",
      "0.7142857142857143 0.0\n",
      "0.6864064729836441 0.0\n",
      "6\n",
      "input views shape :\n",
      "view_0 :  torch.Size([400, 20])\n",
      "view_1 :  torch.Size([400, 20])\n",
      "view_2 :  torch.Size([400, 20])\n",
      "Start Hyperparams Tuning\n"
     ]
    },
    {
     "name": "stderr",
     "output_type": "stream",
     "text": [
      "C:\\Users\\Programer\\Documents\\GitHub\\SGCCA_HSIC\\SGCCA_HSIC\\synth_data.py:76: UserWarning: To copy construct from a tensor, it is recommended to use sourceTensor.clone().detach() or sourceTensor.clone().detach().requires_grad_(True), rather than torch.tensor(sourceTensor).\n",
      "  views = [torch.tensor(view).to(device) for view in views]\n"
     ]
    },
    {
     "name": "stdout",
     "output_type": "stream",
     "text": [
      "Sparsity selection number= 1 hyperparams= (1.0, 1.0, 1.0) obj= tensor(0.1811)\n",
      "Finish Tuning!\n",
      "(1.0, 1.0, 1.0)\n",
      "SNGCCA Started!\n",
      "0.9 0.0\n",
      "0.625 0.0\n",
      "0.5962847939999439 0.0\n",
      "8\n",
      "input views shape :\n",
      "view_0 :  torch.Size([400, 20])\n",
      "view_1 :  torch.Size([400, 20])\n",
      "view_2 :  torch.Size([400, 20])\n",
      "Start Hyperparams Tuning\n"
     ]
    },
    {
     "name": "stderr",
     "output_type": "stream",
     "text": [
      "C:\\Users\\Programer\\Documents\\GitHub\\SGCCA_HSIC\\SGCCA_HSIC\\synth_data.py:76: UserWarning: To copy construct from a tensor, it is recommended to use sourceTensor.clone().detach() or sourceTensor.clone().detach().requires_grad_(True), rather than torch.tensor(sourceTensor).\n",
      "  views = [torch.tensor(view).to(device) for view in views]\n"
     ]
    },
    {
     "name": "stdout",
     "output_type": "stream",
     "text": [
      "Sparsity selection number= 1 hyperparams= (1.0, 1.0, 1.0) obj= tensor(0.1089)\n",
      "Finish Tuning!\n",
      "(1.0, 1.0, 1.0)\n",
      "SNGCCA Started!\n",
      "0.7666666666666667 0.0\n",
      "0.4166666666666667 0.0\n",
      "0.38794291597509756 0.0\n",
      "10\n",
      "input views shape :\n",
      "view_0 :  torch.Size([400, 20])\n",
      "view_1 :  torch.Size([400, 20])\n",
      "view_2 :  torch.Size([400, 20])\n",
      "Start Hyperparams Tuning\n"
     ]
    },
    {
     "name": "stderr",
     "output_type": "stream",
     "text": [
      "C:\\Users\\Programer\\Documents\\GitHub\\SGCCA_HSIC\\SGCCA_HSIC\\synth_data.py:76: UserWarning: To copy construct from a tensor, it is recommended to use sourceTensor.clone().detach() or sourceTensor.clone().detach().requires_grad_(True), rather than torch.tensor(sourceTensor).\n",
      "  views = [torch.tensor(view).to(device) for view in views]\n"
     ]
    },
    {
     "name": "stdout",
     "output_type": "stream",
     "text": [
      "Sparsity selection number= 1 hyperparams= (1.0, 1.0, 1.0) obj= tensor(0.1030)\n",
      "Finish Tuning!\n",
      "(1.0, 1.0, 1.0)\n",
      "SNGCCA Started!\n",
      "0.7666666666666667 0.0\n",
      "0.36363636363636365 0.0\n",
      "0.30151134457776363 0.0\n"
     ]
    }
   ],
   "source": [
    "## Scenario 1\n",
    "## Evaluation params\n",
    "ACC_list = []\n",
    "FS_list = []\n",
    "MCC_list = []\n",
    "\n",
    "for i in range(4,11,2):\n",
    "    print(i)\n",
    "    FS = []\n",
    "    MCC = []\n",
    "    ACC = []\n",
    "    N = 400\n",
    "    views = create_synthData_multi(i=i, data_type=1,N=400, p=20, q=20, r=20)    \n",
    "    print(f'input views shape :')\n",
    "    for i, view in enumerate(views):\n",
    "        print(f'view_{i} :  {view.shape}')\n",
    "        view = view.to(\"cpu\")\n",
    "\n",
    "    ## train hyper\n",
    "    b0, obj = Solver.tune_hyper(x_list=views, set_params=1,iter=50)\n",
    "    print(b0)\n",
    "\n",
    "    print(\"SNGCCA Started!\")\n",
    "    for rep in range(1):\n",
    "        if (rep + 1) % 100 == 0:\n",
    "            print(\"REP=\", rep + 1)\n",
    "\n",
    "        ## fit results\n",
    "        u = Solver._get_outputs(views, 1e-7, 100, b0)\n",
    "\n",
    "        Label = torch.cat([torch.ones(2, dtype=torch.bool), torch.zeros(18, dtype=torch.bool)])\n",
    "        acc,f1,mcc = FS_MCC(u, Label)\n",
    "        ACC.append(acc)\n",
    "        FS.append(f1)\n",
    "        MCC.append(mcc)\n",
    "\n",
    "    macc = np.mean(ACC)\n",
    "    sdacc = np.std(ACC)\n",
    "    print(macc, sdacc)\n",
    "    ACC_list.append([macc,sdacc])\n",
    "\n",
    "    mf = np.mean(FS)\n",
    "    sdf = np.std(FS)\n",
    "    print(mf, sdf)\n",
    "    FS_list.append([mf,sdf])\n",
    "\n",
    "    mmcc = np.mean(MCC)\n",
    "    sdmcc = np.std(MCC)\n",
    "    print(mmcc, sdmcc)\n",
    "    MCC_list.append([mmcc, sdmcc])"
   ]
  },
  {
   "cell_type": "code",
   "execution_count": 15,
   "id": "bdd75ee8",
   "metadata": {},
   "outputs": [
    {
     "name": "stdout",
     "output_type": "stream",
     "text": [
      "[[0.6864064729836441, 0.0], [0.5962847939999439, 0.0], [0.38794291597509756, 0.0], [0.30151134457776363, 0.0]]\n"
     ]
    }
   ],
   "source": [
    "print(ACC_list)\n",
    "print(FS_list)\n",
    "print(MCC_list)"
   ]
  },
  {
   "cell_type": "code",
   "execution_count": null,
   "id": "7e0cf0b1",
   "metadata": {},
   "outputs": [],
   "source": [
    "## Scenario 1\n",
    "## Evaluation params\n",
    "ACC_list = []\n",
    "FS_list = []\n",
    "MCC_list = []\n",
    "\n",
    "for i in range(4,11,2):\n",
    "    print(i)\n",
    "    FS = []\n",
    "    MCC = []\n",
    "    ACC = []\n",
    "    N = 400\n",
    "    views = create_synthData_multi(i=i, data_type=1,N=400, p=20, q=20, r=20)    \n",
    "    print(f'input views shape :')\n",
    "    for i, view in enumerate(views):\n",
    "        print(f'view_{i} :  {view.shape}')\n",
    "        view = view.to(\"cpu\")\n",
    "\n",
    "    ## train hyper\n",
    "    b0, obj = Solver.tune_hyper(x_list=views, set_params=1,iter=50)\n",
    "    print(b0)\n",
    "\n",
    "    print(\"SNGCCA Started!\")\n",
    "    for rep in range(1):\n",
    "        if (rep + 1) % 100 == 0:\n",
    "            print(\"REP=\", rep + 1)\n",
    "\n",
    "        ## fit results\n",
    "        u = Solver._get_outputs(views, 1e-7, 100, b0)\n",
    "\n",
    "        Label = torch.cat([torch.ones(2, dtype=torch.bool), torch.zeros(18, dtype=torch.bool)])\n",
    "        acc,f1,mcc = FS_MCC(u, Label)\n",
    "        ACC.append(acc)\n",
    "        FS.append(f1)\n",
    "        MCC.append(mcc)\n",
    "\n",
    "    macc = np.mean(ACC)\n",
    "    sdacc = np.std(ACC)\n",
    "    print(macc, sdacc)\n",
    "    ACC_list.append([macc,sdacc])\n",
    "\n",
    "    mf = np.mean(FS)\n",
    "    sdf = np.std(FS)\n",
    "    print(mf, sdf)\n",
    "    FS_list.append([mf,sdf])\n",
    "\n",
    "    mmcc = np.mean(MCC)\n",
    "    sdmcc = np.std(MCC)\n",
    "    print(mmcc, sdmcc)\n",
    "    MCC_list.append([mmcc, sdmcc])"
   ]
  }
 ],
 "metadata": {
  "kernelspec": {
   "display_name": "Python 3 (ipykernel)",
   "language": "python",
   "name": "python3"
  },
  "language_info": {
   "codemirror_mode": {
    "name": "ipython",
    "version": 3
   },
   "file_extension": ".py",
   "mimetype": "text/x-python",
   "name": "python",
   "nbconvert_exporter": "python",
   "pygments_lexer": "ipython3",
   "version": "3.9.13"
  }
 },
 "nbformat": 4,
 "nbformat_minor": 5
}
