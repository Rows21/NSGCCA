{
 "cells": [
  {
   "cell_type": "code",
   "execution_count": 4,
   "id": "2c221b2b",
   "metadata": {},
   "outputs": [],
   "source": [
    "from main import Solver\n",
    "import torch\n",
    "from synth_data import create_synthData_new\n",
    "from validation_method import FS_MCC\n",
    "import numpy as np"
   ]
  },
  {
   "cell_type": "code",
   "execution_count": 5,
   "id": "7b43f246",
   "metadata": {},
   "outputs": [
    {
     "name": "stdout",
     "output_type": "stream",
     "text": [
      "Using 0 GPUs\n"
     ]
    }
   ],
   "source": [
    "# Hyper Params Section\n",
    "device = 'cuda' if torch.cuda.is_available() else 'cpu'\n",
    "print(\"Using\", torch.cuda.device_count(), \"GPUs\")\n",
    "\n",
    "solver = Solver(device)\n",
    "## Evaluation params\n",
    "ACC_list = []\n",
    "FS_list = []\n",
    "MCC_list = []\n"
   ]
  },
  {
   "cell_type": "code",
   "execution_count": 7,
   "id": "b4f2e030",
   "metadata": {},
   "outputs": [
    {
     "name": "stdout",
     "output_type": "stream",
     "text": [
      "view_0 :  torch.Size([100, 100])\n",
      "view_1 :  torch.Size([100, 100])\n",
      "view_2 :  torch.Size([100, 100])\n",
      "[tensor(0.3186), tensor(0.3020), tensor(0.3282)]\n"
     ]
    },
    {
     "ename": "IndexError",
     "evalue": "index -1 is out of bounds for dimension 0 with size 0",
     "output_type": "error",
     "traceback": [
      "\u001b[1;31m---------------------------------------------------------------------------\u001b[0m",
      "\u001b[1;31mIndexError\u001b[0m                                Traceback (most recent call last)",
      "Cell \u001b[1;32mIn[7], line 20\u001b[0m\n\u001b[0;32m     17\u001b[0m     view \u001b[38;5;241m=\u001b[39m view\u001b[38;5;241m.\u001b[39mto(\u001b[38;5;124m\"\u001b[39m\u001b[38;5;124mcpu\u001b[39m\u001b[38;5;124m\"\u001b[39m)\n\u001b[0;32m     19\u001b[0m b \u001b[38;5;241m=\u001b[39m [\u001b[38;5;241m0.015\u001b[39m,\u001b[38;5;241m0.04\u001b[39m,\u001b[38;5;241m0.06\u001b[39m]\n\u001b[1;32m---> 20\u001b[0m u \u001b[38;5;241m=\u001b[39m \u001b[43msolver\u001b[49m\u001b[38;5;241;43m.\u001b[39;49m\u001b[43mSNGCCA\u001b[49m\u001b[38;5;241;43m.\u001b[39;49m\u001b[43mfit_admm2\u001b[49m\u001b[43m(\u001b[49m\u001b[43mviews\u001b[49m\u001b[43m,\u001b[49m\u001b[43m \u001b[49m\u001b[43mlamb\u001b[49m\u001b[38;5;241;43m=\u001b[39;49m\u001b[43mb\u001b[49m\u001b[43m,\u001b[49m\u001b[43m \u001b[49m\u001b[43mlogging\u001b[49m\u001b[38;5;241;43m=\u001b[39;49m\u001b[38;5;241;43m0\u001b[39;49m\u001b[43m)\u001b[49m\n",
      "File \u001b[1;32m~\\Documents\\GitHub\\SGCCA_HSIC\\SNGCCA\\sngcca.py:406\u001b[0m, in \u001b[0;36mSNGCCA.fit_admm2\u001b[1;34m(self, views, lamb, logging)\u001b[0m\n\u001b[0;32m    403\u001b[0m Pi \u001b[38;5;241m=\u001b[39m torch\u001b[38;5;241m.\u001b[39mmax((torch\u001b[38;5;241m.\u001b[39mabs(temp)\u001b[38;5;241m-\u001b[39m lamb[i]\u001b[38;5;241m/\u001b[39m(L \u001b[38;5;241m+\u001b[39m tau)), torch\u001b[38;5;241m.\u001b[39mzeros(temp\u001b[38;5;241m.\u001b[39msize())) \u001b[38;5;241m*\u001b[39m torch\u001b[38;5;241m.\u001b[39msign(temp)\n\u001b[0;32m    404\u001b[0m \u001b[38;5;66;03m#lamb[i]/(L + tau)\u001b[39;00m\n\u001b[1;32m--> 406\u001b[0m H \u001b[38;5;241m=\u001b[39m \u001b[38;5;28;43mself\u001b[39;49m\u001b[38;5;241;43m.\u001b[39;49m\u001b[43m_FantopeProjection\u001b[49m\u001b[43m(\u001b[49m\u001b[43msqcovx\u001b[49m\u001b[43m \u001b[49m\u001b[38;5;241;43m@\u001b[39;49m\u001b[43m \u001b[49m\u001b[43mPi\u001b[49m\u001b[43m \u001b[49m\u001b[38;5;241;43m@\u001b[39;49m\u001b[43m \u001b[49m\u001b[43msqcovx\u001b[49m\u001b[43m \u001b[49m\u001b[38;5;241;43m+\u001b[39;49m\u001b[43m \u001b[49m\u001b[43mGamma\u001b[49m\u001b[43m)\u001b[49m\n\u001b[0;32m    407\u001b[0m Gamma \u001b[38;5;241m=\u001b[39m Gamma \u001b[38;5;241m+\u001b[39m sqcovx \u001b[38;5;241m@\u001b[39m Pi \u001b[38;5;241m@\u001b[39m sqcovx \u001b[38;5;241m-\u001b[39m H\n\u001b[0;32m    409\u001b[0m inner_error \u001b[38;5;241m=\u001b[39m torch\u001b[38;5;241m.\u001b[39mnorm(sqcovx \u001b[38;5;241m@\u001b[39m Pi \u001b[38;5;241m@\u001b[39m sqcovx \u001b[38;5;241m-\u001b[39m H, \u001b[38;5;124m'\u001b[39m\u001b[38;5;124mfro\u001b[39m\u001b[38;5;124m'\u001b[39m)\n",
      "File \u001b[1;32m~\\Documents\\GitHub\\SGCCA_HSIC\\SNGCCA\\sngcca.py:103\u001b[0m, in \u001b[0;36mSNGCCA._FantopeProjection\u001b[1;34m(self, W)\u001b[0m\n\u001b[0;32m    101\u001b[0m temp \u001b[38;5;241m=\u001b[39m torch\u001b[38;5;241m.\u001b[39mwhere(torch\u001b[38;5;241m.\u001b[39msum(torch\u001b[38;5;241m.\u001b[39mmin(torch\u001b[38;5;241m.\u001b[39mtensor(\u001b[38;5;241m1.0\u001b[39m), torch\u001b[38;5;241m.\u001b[39mmax(D \u001b[38;5;241m-\u001b[39m knots\u001b[38;5;241m.\u001b[39munsqueeze(\u001b[38;5;241m1\u001b[39m), torch\u001b[38;5;241m.\u001b[39mtensor(\u001b[38;5;241m0.0\u001b[39m))), dim\u001b[38;5;241m=\u001b[39m\u001b[38;5;241m1\u001b[39m) \u001b[38;5;241m<\u001b[39m\u001b[38;5;241m=\u001b[39m \u001b[38;5;241m1\u001b[39m)\n\u001b[0;32m    102\u001b[0m temp \u001b[38;5;241m=\u001b[39m temp[\u001b[38;5;241m0\u001b[39m]\n\u001b[1;32m--> 103\u001b[0m lentemp \u001b[38;5;241m=\u001b[39m \u001b[43mtemp\u001b[49m\u001b[43m[\u001b[49m\u001b[38;5;241;43m-\u001b[39;49m\u001b[38;5;241;43m1\u001b[39;49m\u001b[43m]\u001b[49m\n\u001b[0;32m    104\u001b[0m \u001b[38;5;66;03m#if len(lentemp) != 0:\u001b[39;00m\n\u001b[0;32m    105\u001b[0m a \u001b[38;5;241m=\u001b[39m knots[lentemp]\n",
      "\u001b[1;31mIndexError\u001b[0m: index -1 is out of bounds for dimension 0 with size 0"
     ]
    }
   ],
   "source": [
    "## Scenario 1\n",
    "FS = []\n",
    "MCC = []\n",
    "ACC = []\n",
    "\n",
    "#x = np.genfromtxt('xdata.csv', delimiter=',')\n",
    "seed = 0\n",
    "torch.manual_seed(seed)\n",
    "#views = [torch.tensor(x)]\n",
    "N = 100\n",
    "views = create_synthData_new(2,N, mode=1, F=100)\n",
    "#views = create_synthData_multi(2, 1,N=400, p=200, q=200, r=200,device='cpu')\n",
    "#views = create_synthData_hd()\n",
    "\n",
    "for i, view in enumerate(views):\n",
    "    print(f'view_{i} :  {view.shape}')\n",
    "    view = view.to(\"cpu\")\n",
    "\n",
    "b = [0.015,0.04,0.06]\n",
    "u = solver.SNGCCA.fit_admm2(views, lamb=b, logging=0)\n",
    "\n"
   ]
  },
  {
   "cell_type": "code",
   "execution_count": 11,
   "id": "e7d36328",
   "metadata": {},
   "outputs": [
    {
     "name": "stdout",
     "output_type": "stream",
     "text": [
      "view_0 :  torch.Size([100, 100])\n",
      "view_1 :  torch.Size([100, 100])\n",
      "view_2 :  torch.Size([100, 100])\n",
      "[tensor(0.2455), tensor(0.3333), tensor(0.2845)]\n"
     ]
    },
    {
     "data": {
      "text/plain": [
       "[<matplotlib.lines.Line2D at 0x145ecf10c10>]"
      ]
     },
     "execution_count": 11,
     "metadata": {},
     "output_type": "execute_result"
    },
    {
     "data": {
      "image/png": "[encoded data removed]",
      "text/plain": [
       "<Figure size 640x480 with 3 Axes>"
      ]
     },
     "metadata": {},
     "output_type": "display_data"
    }
   ],
   "source": [
    "import matplotlib.pyplot as plt\n",
    "from numpy import polyfit, poly1d\n",
    "\n",
    "N = 100\n",
    "views = create_synthData_new(2,N, mode=1, F=100)\n",
    "\n",
    "for i, view in enumerate(views):\n",
    "    print(f'view_{i} :  {view.shape}')\n",
    "    view = view.to(\"cpu\")\n",
    "\n",
    "b = [0.016,0.04,0.06]\n",
    "u = solver.SNGCCA.fit_admm2(views, lamb=b, logging=0)\n",
    "    \n",
    "#print(u)\n",
    "\n",
    "gt = torch.zeros((100, 1))\n",
    "gt[:2] = torch.sqrt(torch.tensor(1/2))\n",
    "\n",
    "fig = plt.figure()\n",
    "ax1 = fig.add_subplot(3, 3, 1)\n",
    "ax2 = fig.add_subplot(3, 3, 2)\n",
    "ax3 = fig.add_subplot(3, 3, 3)\n",
    "\n",
    "x1 = views[0] @ u[0]\n",
    "xg1 = views[0][:,0] + views[0][:,1]\n",
    "y1 = views[1] @ u[1]\n",
    "yg1 = views[1][:,0] + views[1][:,1]\n",
    "z1 = views[2] @ u[2]\n",
    "zg1 = views[2][:,0] + views[2][:,1]\n",
    "coeff00 =  polyfit(xg1, zg1, 1)\n",
    "coeff01 = polyfit(yg1, zg1, 1)\n",
    "\n",
    "ax1.scatter(x1,y1,s=0.8,c='#3a7bd5')\n",
    "ax1.plot(xg1,yg1,linewidth=0.5,c='#3a6073')\n",
    "ax2.scatter(x1,z1,s=0.8,c='#3a7bd5')\n",
    "ax2.plot(xg1,coeff00[0] * yg1 + coeff00[1],linewidth=0.5,c='#3a6073')\n",
    "ax3.scatter(y1,z1,s=0.8,c='#3a7bd5')\n",
    "ax3.plot(yg1,coeff01[0] * yg1 + coeff01[1],linewidth=0.5,c='#3a6073')\n"
   ]
  },
  {
   "cell_type": "code",
   "execution_count": 9,
   "id": "14e1b28c",
   "metadata": {},
   "outputs": [
    {
     "name": "stdout",
     "output_type": "stream",
     "text": [
      "nan nan\n",
      "nan nan\n",
      "nan nan\n"
     ]
    },
    {
     "name": "stderr",
     "output_type": "stream",
     "text": [
      "C:\\Users\\Programer\\anaconda3\\lib\\site-packages\\numpy\\core\\fromnumeric.py:3432: RuntimeWarning: Mean of empty slice.\n",
      "  return _methods._mean(a, axis=axis, dtype=dtype,\n",
      "C:\\Users\\Programer\\anaconda3\\lib\\site-packages\\numpy\\core\\_methods.py:190: RuntimeWarning: invalid value encountered in double_scalars\n",
      "  ret = ret.dtype.type(ret / rcount)\n",
      "C:\\Users\\Programer\\anaconda3\\lib\\site-packages\\numpy\\core\\_methods.py:265: RuntimeWarning: Degrees of freedom <= 0 for slice\n",
      "  ret = _var(a, axis=axis, dtype=dtype, out=out, ddof=ddof,\n",
      "C:\\Users\\Programer\\anaconda3\\lib\\site-packages\\numpy\\core\\_methods.py:223: RuntimeWarning: invalid value encountered in divide\n",
      "  arrmean = um.true_divide(arrmean, div, out=arrmean, casting='unsafe',\n",
      "C:\\Users\\Programer\\anaconda3\\lib\\site-packages\\numpy\\core\\_methods.py:257: RuntimeWarning: invalid value encountered in double_scalars\n",
      "  ret = ret.dtype.type(ret / rcount)\n"
     ]
    }
   ],
   "source": [
    "macc = np.mean(ACC)\n",
    "sdacc = np.std(ACC)\n",
    "print(macc, sdacc)\n",
    "ACC_list.append([macc,sdacc])\n",
    "\n",
    "mf = np.mean(FS)\n",
    "sdf = np.std(FS)\n",
    "print(mf, sdf)\n",
    "FS_list.append([mf,sdf])\n",
    "\n",
    "mmcc = np.mean(MCC)\n",
    "sdmcc = np.std(MCC)\n",
    "print(mmcc, sdmcc)\n",
    "MCC_list.append([mmcc, sdmcc])"
   ]
  },
  {
   "cell_type": "code",
   "execution_count": 3,
   "id": "7e6548f8",
   "metadata": {},
   "outputs": [
    {
     "name": "stdout",
     "output_type": "stream",
     "text": [
      "input views shape :\n",
      "view_0 :  torch.Size([400, 20])\n",
      "view_1 :  torch.Size([400, 20])\n",
      "view_2 :  torch.Size([400, 20])\n"
     ]
    },
    {
     "ename": "AttributeError",
     "evalue": "type object 'Solver' has no attribute 'SNGCCA'",
     "output_type": "error",
     "traceback": [
      "\u001b[1;31m---------------------------------------------------------------------------\u001b[0m",
      "\u001b[1;31mAttributeError\u001b[0m                            Traceback (most recent call last)",
      "Cell \u001b[1;32mIn[3], line 23\u001b[0m\n\u001b[0;32m     20\u001b[0m     \u001b[38;5;28mprint\u001b[39m(\u001b[38;5;124m\"\u001b[39m\u001b[38;5;124mREP=\u001b[39m\u001b[38;5;124m\"\u001b[39m, rep \u001b[38;5;241m+\u001b[39m \u001b[38;5;241m1\u001b[39m)\n\u001b[0;32m     22\u001b[0m \u001b[38;5;66;03m## fit results\u001b[39;00m\n\u001b[1;32m---> 23\u001b[0m u \u001b[38;5;241m=\u001b[39m \u001b[43mSolver\u001b[49m\u001b[38;5;241;43m.\u001b[39;49m\u001b[43mSNGCCA\u001b[49m\u001b[38;5;241m.\u001b[39mfit(views, \u001b[38;5;241m1e-7\u001b[39m, \u001b[38;5;241m300\u001b[39m, (b0,b0,b0), loss\u001b[38;5;241m=\u001b[39m\u001b[38;5;124m\"\u001b[39m\u001b[38;5;124mMomentum\u001b[39m\u001b[38;5;124m\"\u001b[39m, patience\u001b[38;5;241m=\u001b[39m\u001b[38;5;241m10\u001b[39m, logging\u001b[38;5;241m=\u001b[39m\u001b[38;5;241m1\u001b[39m)\n\u001b[0;32m     24\u001b[0m \u001b[38;5;66;03m#u = Solver._get_outputs(views, 1e-7, 300, (b0,b0,b0),logging=1)\u001b[39;00m\n\u001b[0;32m     26\u001b[0m Label \u001b[38;5;241m=\u001b[39m torch\u001b[38;5;241m.\u001b[39mcat([torch\u001b[38;5;241m.\u001b[39mones(\u001b[38;5;241m2\u001b[39m, dtype\u001b[38;5;241m=\u001b[39mtorch\u001b[38;5;241m.\u001b[39mbool), torch\u001b[38;5;241m.\u001b[39mzeros(\u001b[38;5;241m18\u001b[39m, dtype\u001b[38;5;241m=\u001b[39mtorch\u001b[38;5;241m.\u001b[39mbool)])\n",
      "\u001b[1;31mAttributeError\u001b[0m: type object 'Solver' has no attribute 'SNGCCA'"
     ]
    }
   ],
   "source": [
    "## Scenario 2\n",
    "from validation_method import FS_MCC\n",
    "ACC_2 = []\n",
    "FS_2 = []\n",
    "MCC_2 = []\n",
    "N = 400\n",
    "views = create_synthData_new(N, mode=2, F=20)\n",
    "views = [views[2],views[0],views[1]]\n",
    "print(f'input views shape :')\n",
    "for i, view in enumerate(views):\n",
    "    print(f'view_{i} :  {view.shape}')\n",
    "    view = view.to(\"cpu\")\n",
    "\n",
    "## train hyper\n",
    "#b0, obj = Solver.tune_hyper(x_list=views, set_params=10,max_params=50,iters=100)\n",
    "#print(b0)\n",
    "b0 = 10\n",
    "for rep in range(1):\n",
    "    if (rep + 1) % 100 == 0:\n",
    "        print(\"REP=\", rep + 1)\n",
    "    \n",
    "    ## fit results\n",
    "    u = Solver.SNGCCA.fit(views, 1e-7, 300, (b0,b0,b0), loss=\"Momentum\", patience=10, logging=1)\n",
    "    #u = Solver._get_outputs(views, 1e-7, 300, (b0,b0,b0),logging=1)\n",
    "\n",
    "    Label = torch.cat([torch.ones(2, dtype=torch.bool), torch.zeros(18, dtype=torch.bool)])\n",
    "    acc,f1,mcc = FS_MCC(u, Label)\n",
    "    ACC_2.append(acc)\n",
    "    FS_2.append(f1)\n",
    "    MCC_2.append(mcc)\n",
    "print(u)"
   ]
  },
  {
   "cell_type": "code",
   "execution_count": 3,
   "id": "3f412f92",
   "metadata": {},
   "outputs": [
    {
     "name": "stdout",
     "output_type": "stream",
     "text": [
      "view_0 :  torch.Size([100, 100])\n",
      "view_1 :  torch.Size([100, 100])\n",
      "view_2 :  torch.Size([100, 100])\n"
     ]
    },
    {
     "data": {
      "text/plain": [
       "<matplotlib.collections.PathCollection at 0x145e6daeee0>"
      ]
     },
     "execution_count": 3,
     "metadata": {},
     "output_type": "execute_result"
    },
    {
     "data": {
      "image/png": "[encoded data removed]",
      "text/plain": [
       "<Figure size 640x480 with 6 Axes>"
      ]
     },
     "metadata": {},
     "output_type": "display_data"
    }
   ],
   "source": [
    "import matplotlib.pyplot as plt\n",
    "from numpy import polyfit, poly1d\n",
    "N = 100\n",
    "views = create_synthData_new(2,N, mode=2, F=100)\n",
    "\n",
    "for i, view in enumerate(views):\n",
    "    print(f'view_{i} :  {view.shape}')\n",
    "    view = view.to(\"cpu\")\n",
    "\n",
    "b = [0.001,0.004,0.006]\n",
    "#u = solver.SNGCCA.fit_admm2(views, lamb=b, logging=1)\n",
    "#print(u)\n",
    "\n",
    "fig = plt.figure()\n",
    "ax1 = fig.add_subplot(3, 3, 1)\n",
    "ax2 = fig.add_subplot(3, 3, 2)\n",
    "ax3 = fig.add_subplot(3, 3, 3)\n",
    "ax4 = fig.add_subplot(3, 3, 4)\n",
    "ax5 = fig.add_subplot(3, 3, 5)\n",
    "ax6 = fig.add_subplot(3, 3, 6)\n",
    "\n",
    "#x2 = views[0] @ u[0]\n",
    "xg2 = views[0][:,0] + views[0][:,1]\n",
    "#y2 = views[1] @ u[1]\n",
    "yg2 = views[1][:,0] + views[1][:,1]\n",
    "#z2 = views[2] @ u[2]\n",
    "zg2 = views[2][:,0] + views[2][:,1]\n",
    "\n",
    "\n",
    "#ax1.scatter(x1,y1,s=0.8,c='#3a7bd5')\n",
    "#ax1.plot(xg1,yg1,linewidth=0.5,c='#3a6073')\n",
    "#ax2.scatter(x1,z1,s=0.8,c='#3a7bd5')\n",
    "#ax2.plot(xg1,coeff00[0] * yg1 + coeff00[1],linewidth=0.5,c='#3a6073')\n",
    "#ax3.scatter(y1,z1,s=0.8,c='#3a7bd5')\n",
    "#ax3.plot(yg1,coeff01[0] * yg1 + coeff01[1],linewidth=0.5,c='#3a6073')\n",
    "\n",
    "#ax4.scatter(x2,y2,s=0.8,c='#3a7bd5')\n",
    "ax4.scatter(xg2,yg2,s=0.8,c='#3a7bd5')\n",
    "#ax5.scatter(x2,z2,s=0.8,c='#3a7bd5')\n",
    "ax5.scatter(xg2,zg2,s=0.8,c='#3a7bd5')\n",
    "#ax6.scatter(y2,z2,s=0.8,c='#3a7bd5')\n",
    "ax6.scatter(yg2,zg2,s=0.8,c='#3a7bd5')\n",
    "\n"
   ]
  },
  {
   "cell_type": "code",
   "execution_count": 10,
   "id": "3d27aff9",
   "metadata": {},
   "outputs": [
    {
     "name": "stdout",
     "output_type": "stream",
     "text": [
      "0.9434999999999999 0.14647515906194547\n",
      "0.8933763128080017 0.2738150324505891\n",
      "0.8753058894507663 0.323405773174309\n"
     ]
    }
   ],
   "source": [
    "macc = np.mean(ACC_2)\n",
    "sdacc = np.std(ACC_2)\n",
    "print(macc, sdacc)\n",
    "ACC_list.append([macc,sdacc])\n",
    "\n",
    "mf = np.mean(FS_2)\n",
    "sdf = np.std(FS_2)\n",
    "print(mf, sdf)\n",
    "FS_list.append([mf,sdf])\n",
    "\n",
    "mmcc = np.mean(MCC_2)\n",
    "sdmcc = np.std(MCC_2)\n",
    "print(mmcc, sdmcc)\n",
    "MCC_list.append([mmcc, sdmcc])"
   ]
  },
  {
   "cell_type": "code",
   "execution_count": 12,
   "id": "b71e9b1d",
   "metadata": {},
   "outputs": [
    {
     "name": "stdout",
     "output_type": "stream",
     "text": [
      "input views shape :\n",
      "view_0 :  torch.Size([400, 20])\n",
      "view_1 :  torch.Size([400, 20])\n",
      "view_2 :  torch.Size([400, 20])\n"
     ]
    }
   ],
   "source": [
    "## Scenario 3\n",
    "FS_3 = []\n",
    "MCC_3 = []\n",
    "ACC_3 = []\n",
    "N = 400\n",
    "views = create_synthData_new(N, mode=3, F=20)\n",
    "\n",
    "print(f'input views shape :')\n",
    "for i, view in enumerate(views):\n",
    "    print(f'view_{i} :  {view.shape}')\n",
    "    view = view.to(\"cpu\")\n",
    "\n",
    "## train hyper\n",
    "#b0, obj = Solver.tune_hyper(x_list=views, set_params=10,max_params=50,iters=100)\n",
    "#print(b0)\n",
    "b0=5.00\n",
    "for rep in range(1):\n",
    "    if (rep + 1) % 100 == 0:\n",
    "        print(\"REP=\", rep + 1)\n",
    "\n",
    "    ## fit results\n",
    "    u = Solver._get_outputs(views, 1e-7, 200, (b0,b0,b0))\n",
    "\n",
    "    Label = torch.cat([torch.ones(2, dtype=torch.bool), torch.zeros(18, dtype=torch.bool)])\n",
    "    acc,f1,mcc = FS_MCC(u, Label)\n",
    "    ACC_3.append(acc)\n",
    "    FS_3.append(f1)\n",
    "    MCC_3.append(mcc)\n"
   ]
  },
  {
   "cell_type": "code",
   "execution_count": 12,
   "id": "83ad4184",
   "metadata": {},
   "outputs": [
    {
     "name": "stdout",
     "output_type": "stream",
     "text": [
      "0.9926666666666665 0.00922556833539872\n",
      "0.9664835164835165 0.04168226170336305\n",
      "0.9640339979497794 0.044583148679418254\n"
     ]
    }
   ],
   "source": [
    "macc = np.mean(ACC_3)\n",
    "sdacc = np.std(ACC_3)\n",
    "print(macc, sdacc)\n",
    "ACC_list.append([macc,sdacc])\n",
    "\n",
    "mf = np.mean(FS_3)\n",
    "sdf = np.std(FS_3)\n",
    "print(mf, sdf)\n",
    "FS_list.append([mf,sdf])\n",
    "\n",
    "mmcc = np.mean(MCC_3)\n",
    "sdmcc = np.std(MCC_3)\n",
    "print(mmcc, sdmcc)\n",
    "MCC_list.append([mmcc, sdmcc])"
   ]
  },
  {
   "cell_type": "code",
   "execution_count": 13,
   "id": "2bb64ba5",
   "metadata": {
    "scrolled": true
   },
   "outputs": [
    {
     "name": "stdout",
     "output_type": "stream",
     "text": [
      "[[0.9975999999999999, 0.00639583197611279], [0.9434999999999999, 0.14647515906194547], [0.9926666666666665, 0.00922556833539872]]\n",
      "[[0.9890549450549452, 0.02889918516206012], [0.8933763128080017, 0.2738150324505891], [0.9664835164835165, 0.04168226170336305]]\n",
      "[[0.9882629549372325, 0.030909214124223112], [0.8753058894507663, 0.323405773174309], [0.9640339979497794, 0.044583148679418254]]\n"
     ]
    }
   ],
   "source": [
    "print(ACC_list)\n",
    "print(FS_list)\n",
    "print(MCC_list)"
   ]
  },
  {
   "cell_type": "code",
   "execution_count": 18,
   "id": "23344995",
   "metadata": {},
   "outputs": [
    {
     "data": {
      "text/plain": [
       "[<matplotlib.lines.Line2D at 0x2361b94f550>]"
      ]
     },
     "execution_count": 18,
     "metadata": {},
     "output_type": "execute_result"
    },
    {
     "data": {
      "image/png": "[encoded data removed]",
      "text/plain": [
       "<Figure size 640x480 with 9 Axes>"
      ]
     },
     "metadata": {},
     "output_type": "display_data"
    }
   ],
   "source": [
    "fig = plt.figure()\n",
    "ax1 = fig.add_subplot(3, 3, 1)\n",
    "ax2 = fig.add_subplot(3, 3, 2)\n",
    "ax3 = fig.add_subplot(3, 3, 3)\n",
    "ax4 = fig.add_subplot(3, 3, 4)\n",
    "ax5 = fig.add_subplot(3, 3, 5)\n",
    "ax6 = fig.add_subplot(3, 3, 6)\n",
    "ax7 = fig.add_subplot(3, 3, 7)\n",
    "ax8 = fig.add_subplot(3, 3, 8)\n",
    "ax9 = fig.add_subplot(3, 3, 9)\n",
    "\n",
    "x3 = views[0] @ u[0]\n",
    "xg3 = sorted(views[0][:,0] + views[0][:,1])\n",
    "y3 = views[1] @ u[1]\n",
    "z3 = views[2] @ u[2]\n",
    "\n",
    "ax1.scatter(x1,y1,s=0.8,c='#3a7bd5')\n",
    "ax1.plot(xg1,yg1,linewidth=0.5,c='#3a6073')\n",
    "ax2.scatter(x1,z1,s=0.8,c='#3a7bd5')\n",
    "ax2.plot(xg1,coeff00[0] * yg1 + coeff00[1],linewidth=0.5,c='#3a6073')\n",
    "ax3.scatter(y1,z1,s=0.8,c='#3a7bd5')\n",
    "ax3.plot(yg1,coeff01[0] * yg1 + coeff01[1],linewidth=0.5,c='#3a6073')\n",
    "\n",
    "#ax4.scatter(x2,y2,s=0.8,c='#3a7bd5')\n",
    "ax4.scatter(xg2, yg2, linewidth=0.5, c='#3a6073')\n",
    "#ax5.scatter(x2,z2,s=0.8,c='#3a7bd5')\n",
    "ax5.scatter(xg2,zg2,linewidth=0.5,c='#3a6073')\n",
    "#ax6.scatter(y2,z2,s=0.8,c='#3a7bd5')\n",
    "ax6.scatter(yg2,zg2,linewidth=0.5,c='#3a6073')\n",
    "\n",
    "ax7.scatter(x3,y3,s=0.8,c='#3a7bd5')\n",
    "ax7.plot(xg3,np.power(xg3,3),linewidth=0.5,c='#3a6073')\n",
    "ax8.scatter(x3,z3,s=0.8,c='#3a7bd5')\n",
    "ax8.plot(xg3,np.power(xg3,2),linewidth=0.5,c='#3a6073')\n",
    "ax9.scatter(y3,z3,s=0.8,c='#3a7bd5')\n",
    "ax9.plot(np.power(xg3,3),np.power(xg3,2),linewidth=0.5,c='#3a6073')"
   ]
  },
  {
   "cell_type": "code",
   "execution_count": null,
   "id": "02b8c4b1",
   "metadata": {},
   "outputs": [],
   "source": []
  }
 ],
 "metadata": {
  "kernelspec": {
   "display_name": "Python 3 (ipykernel)",
   "language": "python",
   "name": "python3"
  },
  "language_info": {
   "codemirror_mode": {
    "name": "ipython",
    "version": 3
   },
   "file_extension": ".py",
   "mimetype": "text/x-python",
   "name": "python",
   "nbconvert_exporter": "python",
   "pygments_lexer": "ipython3",
   "version": "3.9.13"
  }
 },
 "nbformat": 4,
 "nbformat_minor": 5
}
