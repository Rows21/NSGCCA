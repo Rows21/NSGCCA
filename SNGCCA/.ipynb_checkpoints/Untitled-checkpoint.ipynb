{
 "cells": [
  {
   "cell_type": "code",
   "execution_count": 1,
   "id": "58cbe400",
   "metadata": {},
   "outputs": [
    {
     "name": "stdout",
     "output_type": "stream",
     "text": [
      "Using 0 GPUs\n"
     ]
    }
   ],
   "source": [
    "from main import Solver\n",
    "import torch\n",
    "from synth_data import create_synthData_new, create_synthData_multi\n",
    "from validation_method import FS_MCC\n",
    "import numpy as np\n",
    "\n",
    "# Hyper Params Section\n",
    "device = 'cuda' if torch.cuda.is_available() else 'cpu'\n",
    "print(\"Using\", torch.cuda.device_count(), \"GPUs\")\n",
    "\n",
    "Solver = Solver(device)\n",
    "## Evaluation params\n",
    "ACC_list = []\n",
    "FS_list = []\n",
    "MCC_list = []\n"
   ]
  },
  {
   "cell_type": "code",
   "execution_count": null,
   "id": "b6f90f30",
   "metadata": {},
   "outputs": [
    {
     "name": "stdout",
     "output_type": "stream",
     "text": [
      "input views shape :\n",
      "view_0 :  torch.Size([400, 10])\n",
      "view_1 :  torch.Size([400, 10])\n",
      "view_2 :  torch.Size([400, 10])\n",
      "Start Hyperparams Tuning\n"
     ]
    }
   ],
   "source": [
    "# S1 F = 10，20，30，40\n",
    "FS = []\n",
    "MCC = []\n",
    "ACC = []\n",
    "N = 400\n",
    "for F in (10,20,30,40):\n",
    "    views = create_synthData_new(N, mode=1, F=F)    \n",
    "    print(f'input views shape :')\n",
    "    for i, view in enumerate(views):\n",
    "        print(f'view_{i} :  {view.shape}')\n",
    "        view = view.to(\"cpu\")\n",
    "\n",
    "    ## train hyper\n",
    "    b0, obj = Solver.tune_hyper(x_list=views, set_params=3,iter=50)\n",
    "    print(b0)\n",
    "\n",
    "    print(\"SNGCCA Started!\")\n",
    "    for rep in range(100):\n",
    "        if (rep + 1) % 10 == 0:\n",
    "            print(\"REP=\", rep + 1)\n",
    "\n",
    "        ## fit results\n",
    "        u = Solver._get_outputs(views, 1e-7, 100, b0)\n",
    "\n",
    "        Label = torch.cat([torch.ones(2, dtype=torch.bool), torch.zeros(18, dtype=torch.bool)])\n",
    "        acc,f1,mcc = FS_MCC(u, Label)\n",
    "        ACC.append(acc)\n",
    "        FS.append(f1)\n",
    "        MCC.append(mcc)\n",
    "\n",
    "    # Evaluation\n",
    "    macc = np.mean(ACC)\n",
    "    sdacc = np.std(ACC)\n",
    "    print(macc, sdacc)\n",
    "    ACC_list.append([macc,sdacc])\n",
    "\n",
    "    mf = np.mean(FS)\n",
    "    sdf = np.std(FS)\n",
    "    print(mf, sdf)\n",
    "    FS_list.append([mf,sdf])\n",
    "\n",
    "    mmcc = np.mean(MCC)\n",
    "    sdmcc = np.std(MCC)\n",
    "    print(mmcc, sdmcc)\n",
    "    MCC_list.append([mmcc, sdmcc])"
   ]
  },
  {
   "cell_type": "code",
   "execution_count": null,
   "id": "c386d852",
   "metadata": {},
   "outputs": [],
   "source": []
  }
 ],
 "metadata": {
  "kernelspec": {
   "display_name": "Python 3 (ipykernel)",
   "language": "python",
   "name": "python3"
  },
  "language_info": {
   "codemirror_mode": {
    "name": "ipython",
    "version": 3
   },
   "file_extension": ".py",
   "mimetype": "text/x-python",
   "name": "python",
   "nbconvert_exporter": "python",
   "pygments_lexer": "ipython3",
   "version": "3.9.13"
  }
 },
 "nbformat": 4,
 "nbformat_minor": 5
}
