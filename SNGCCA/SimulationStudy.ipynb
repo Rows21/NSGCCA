{
 "cells": [
  {
   "cell_type": "code",
   "execution_count": 1,
   "id": "2c221b2b",
   "metadata": {},
   "outputs": [],
   "source": [
    "import torch\n",
    "import numpy as np\n",
    "\n",
    "from validation_method import eval, eval_topk"
   ]
  },
  {
   "cell_type": "code",
   "execution_count": 2,
   "id": "7b43f246",
   "metadata": {},
   "outputs": [
    {
     "name": "stdout",
     "output_type": "stream",
     "text": [
      "100*100*5/Linear\n",
      "Specificity: 0.9982105263157893 0.002828644754656477\n",
      "Precision: 0.9660000000000001 0.053744250338472896\n",
      "Recall: 0.9660000000000001 0.053744250338472896\n",
      "FS: 0.9660000000000001 0.053744250338472875\n",
      "MCC: 0.9642105263157893 0.05657289509312936\n",
      "100*100*5/NonLinear\n",
      "Specificity: 0.9979999999999998 0.004361475490224762\n",
      "Precision: 0.9620000000000002 0.08286803431427049\n",
      "Recall: 0.9620000000000002 0.08286803431427049\n",
      "FS: 0.9620000000000002 0.08286803431427049\n",
      "MCC: 0.96 0.08722950980449524\n"
     ]
    }
   ],
   "source": [
    "num = 5\n",
    "tol = 100\n",
    "\n",
    "\n",
    "print('100*100*5/Linear')\n",
    "path = 'D:/GitHub/SNGCCA/SNGCCA/Simulation/Linear/100_100_5/'\n",
    "u1 = np.genfromtxt(path + 'u1.csv', delimiter=',')\n",
    "u2 = np.genfromtxt(path + 'u2.csv', delimiter=',')\n",
    "u3 = np.genfromtxt(path + 'u3.csv', delimiter=',')\n",
    "Label = torch.cat([torch.ones(num, dtype=torch.bool), torch.zeros(tol-num, dtype=torch.bool)])\n",
    "\n",
    "FS = []\n",
    "MCC = []\n",
    "PRE = []\n",
    "REC = []\n",
    "SPE = []\n",
    "for i in range(100):\n",
    "    u = [torch.tensor(u1[i]),torch.tensor(u2[i]),torch.tensor(u3[i])]\n",
    "    #spe, pre, rec, acc, f1, mcc = eval(u, Label)\n",
    "    spe, pre, rec, acc, f1, mcc = eval_topk(u, Label, num)\n",
    "    SPE.append(spe)\n",
    "    PRE.append(pre)\n",
    "    REC.append(rec)\n",
    "    FS.append(f1)\n",
    "    MCC.append(mcc)\n",
    "\n",
    "print(\"Specificity:\",np.mean(SPE),np.std(SPE))\n",
    "print(\"Precision:\",np.mean(PRE),np.std(PRE))\n",
    "print(\"Recall:\",np.mean(REC),np.std(REC))\n",
    "print(\"FS:\",np.mean(FS),np.std(FS))\n",
    "print(\"MCC:\",np.mean(MCC),np.std(MCC))\n",
    "\n",
    "print('100*100*5/NonLinear')\n",
    "path = 'D:/GitHub/SNGCCA/SNGCCA/Simulation/Nonlinear/100_100_5/'\n",
    "u1 = np.genfromtxt(path + 'u1.csv', delimiter=',')\n",
    "u2 = np.genfromtxt(path + 'u2.csv', delimiter=',')\n",
    "u3 = np.genfromtxt(path + 'u3.csv', delimiter=',')\n",
    "\n",
    "FS = []\n",
    "MCC = []\n",
    "PRE = []\n",
    "REC = []\n",
    "SPE = []\n",
    "for i in range(100):\n",
    "    u = [torch.tensor(u1[i]),torch.tensor(u2[i]),torch.tensor(u3[i])]\n",
    "    #spe, pre, rec, acc, f1, mcc = eval(u, Label)\n",
    "    spe, pre, rec, acc, f1, mcc = eval_topk(u, Label,num)\n",
    "    SPE.append(spe)\n",
    "    PRE.append(pre)\n",
    "    REC.append(rec)\n",
    "    FS.append(f1)\n",
    "    MCC.append(mcc)\n",
    "\n",
    "print(\"Specificity:\",np.mean(SPE),np.std(SPE))\n",
    "print(\"Precision:\",np.mean(PRE),np.std(PRE))\n",
    "print(\"Recall:\",np.mean(REC),np.std(REC))\n",
    "print(\"FS:\",np.mean(FS),np.std(FS))\n",
    "print(\"MCC:\",np.mean(MCC),np.std(MCC))\n"
   ]
  },
  {
   "cell_type": "code",
   "execution_count": null,
   "id": "4f931132",
   "metadata": {},
   "outputs": [],
   "source": []
  }
 ],
 "metadata": {
  "kernelspec": {
   "display_name": "Python 3 (ipykernel)",
   "language": "python",
   "name": "python3"
  },
  "language_info": {
   "codemirror_mode": {
    "name": "ipython",
    "version": 3
   },
   "file_extension": ".py",
   "mimetype": "text/x-python",
   "name": "python",
   "nbconvert_exporter": "python",
   "pygments_lexer": "ipython3",
   "version": "3.10.6"
  }
 },
 "nbformat": 4,
 "nbformat_minor": 5
}
